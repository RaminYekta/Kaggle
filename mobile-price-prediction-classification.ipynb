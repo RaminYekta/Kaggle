{
 "cells": [
  {
   "cell_type": "markdown",
   "id": "charitable-windows",
   "metadata": {
    "id": "0MRC0e0KhQ0S",
    "papermill": {
     "duration": 0.038032,
     "end_time": "2021-06-07T13:36:55.750673",
     "exception": false,
     "start_time": "2021-06-07T13:36:55.712641",
     "status": "completed"
    },
    "tags": []
   },
   "source": [
    "# Logistic Regression"
   ]
  },
  {
   "cell_type": "markdown",
   "id": "emotional-gnome",
   "metadata": {
    "id": "LWd1UlMnhT2s",
    "papermill": {
     "duration": 0.036422,
     "end_time": "2021-06-07T13:36:55.824939",
     "exception": false,
     "start_time": "2021-06-07T13:36:55.788517",
     "status": "completed"
    },
    "tags": []
   },
   "source": [
    "## Importing the libraries"
   ]
  },
  {
   "cell_type": "code",
   "execution_count": 1,
   "id": "threatened-bibliography",
   "metadata": {
    "execution": {
     "iopub.execute_input": "2021-06-07T13:36:55.902096Z",
     "iopub.status.busy": "2021-06-07T13:36:55.901673Z",
     "iopub.status.idle": "2021-06-07T13:36:55.912309Z",
     "shell.execute_reply": "2021-06-07T13:36:55.912687Z",
     "shell.execute_reply.started": "2021-06-07T13:25:48.341591Z"
    },
    "id": "YvGPUQaHhXfL",
    "papermill": {
     "duration": 0.051338,
     "end_time": "2021-06-07T13:36:55.912941",
     "exception": false,
     "start_time": "2021-06-07T13:36:55.861603",
     "status": "completed"
    },
    "tags": []
   },
   "outputs": [],
   "source": [
    "import numpy as np\n",
    "import matplotlib.pyplot as plt\n",
    "import pandas as pd"
   ]
  },
  {
   "cell_type": "markdown",
   "id": "removable-budapest",
   "metadata": {
    "id": "K1VMqkGvhc3-",
    "papermill": {
     "duration": 0.038198,
     "end_time": "2021-06-07T13:36:55.988620",
     "exception": false,
     "start_time": "2021-06-07T13:36:55.950422",
     "status": "completed"
    },
    "tags": []
   },
   "source": [
    "## Importing the dataset"
   ]
  },
  {
   "cell_type": "code",
   "execution_count": 2,
   "id": "patent-affect",
   "metadata": {
    "execution": {
     "iopub.execute_input": "2021-06-07T13:36:56.068848Z",
     "iopub.status.busy": "2021-06-07T13:36:56.068326Z",
     "iopub.status.idle": "2021-06-07T13:36:56.124781Z",
     "shell.execute_reply": "2021-06-07T13:36:56.124311Z",
     "shell.execute_reply.started": "2021-06-07T13:27:55.423769Z"
    },
    "id": "M52QDmyzhh9s",
    "papermill": {
     "duration": 0.098339,
     "end_time": "2021-06-07T13:36:56.124895",
     "exception": false,
     "start_time": "2021-06-07T13:36:56.026556",
     "status": "completed"
    },
    "tags": []
   },
   "outputs": [],
   "source": [
    "dataset = pd.read_csv('../input/mobile-price-classification/train.csv')\n",
    "data_test = pd.read_csv('../input/mobile-price-classification/test.csv')\n",
    "data_test = data_test.drop('id', axis=1)\n",
    "X = dataset.iloc[:, :-1].values\n",
    "y = dataset.iloc[:, -1].values"
   ]
  },
  {
   "cell_type": "markdown",
   "id": "affiliated-rehabilitation",
   "metadata": {
    "id": "YvxIPVyMhmKp",
    "papermill": {
     "duration": 0.039,
     "end_time": "2021-06-07T13:36:56.202567",
     "exception": false,
     "start_time": "2021-06-07T13:36:56.163567",
     "status": "completed"
    },
    "tags": []
   },
   "source": [
    "## Splitting the dataset into the Training set and Test set"
   ]
  },
  {
   "cell_type": "code",
   "execution_count": 3,
   "id": "recorded-secondary",
   "metadata": {
    "execution": {
     "iopub.execute_input": "2021-06-07T13:36:56.284514Z",
     "iopub.status.busy": "2021-06-07T13:36:56.284012Z",
     "iopub.status.idle": "2021-06-07T13:36:57.288756Z",
     "shell.execute_reply": "2021-06-07T13:36:57.287954Z",
     "shell.execute_reply.started": "2021-06-07T13:25:48.445938Z"
    },
    "id": "AVzJWAXIhxoC",
    "papermill": {
     "duration": 1.047783,
     "end_time": "2021-06-07T13:36:57.288878",
     "exception": false,
     "start_time": "2021-06-07T13:36:56.241095",
     "status": "completed"
    },
    "tags": []
   },
   "outputs": [],
   "source": [
    "from sklearn.model_selection import train_test_split\n",
    "X_train, X_test, y_train, y_test = train_test_split(X, y, test_size = 0.25, random_state = 0)"
   ]
  },
  {
   "cell_type": "code",
   "execution_count": 4,
   "id": "alternate-briefs",
   "metadata": {
    "execution": {
     "iopub.execute_input": "2021-06-07T13:36:57.370686Z",
     "iopub.status.busy": "2021-06-07T13:36:57.370139Z",
     "iopub.status.idle": "2021-06-07T13:36:57.373089Z",
     "shell.execute_reply": "2021-06-07T13:36:57.373582Z",
     "shell.execute_reply.started": "2021-06-07T13:25:48.466194Z"
    },
    "executionInfo": {
     "elapsed": 2163,
     "status": "ok",
     "timestamp": 1588265315502,
     "user": {
      "displayName": "Hadelin de Ponteves",
      "photoUrl": "https://lh3.googleusercontent.com/a-/AOh14GhEuXdT7eQweUmRPW8_laJuPggSK6hfvpl5a6WBaA=s64",
      "userId": "15047218817161520419"
     },
     "user_tz": -240
    },
    "id": "P3nS3-6r1i2B",
    "outputId": "75d6e0cf-d13b-42cf-a353-888682415d37",
    "papermill": {
     "duration": 0.046393,
     "end_time": "2021-06-07T13:36:57.373736",
     "exception": false,
     "start_time": "2021-06-07T13:36:57.327343",
     "status": "completed"
    },
    "tags": []
   },
   "outputs": [
    {
     "name": "stdout",
     "output_type": "stream",
     "text": [
      "[[5.310e+02 0.000e+00 1.100e+00 ... 0.000e+00 1.000e+00 0.000e+00]\n",
      " [7.640e+02 1.000e+00 1.200e+00 ... 1.000e+00 1.000e+00 0.000e+00]\n",
      " [1.812e+03 1.000e+00 1.300e+00 ... 1.000e+00 1.000e+00 1.000e+00]\n",
      " ...\n",
      " [1.190e+03 0.000e+00 2.000e+00 ... 0.000e+00 0.000e+00 1.000e+00]\n",
      " [1.191e+03 0.000e+00 2.400e+00 ... 1.000e+00 1.000e+00 1.000e+00]\n",
      " [7.060e+02 0.000e+00 5.000e-01 ... 1.000e+00 0.000e+00 1.000e+00]]\n"
     ]
    }
   ],
   "source": [
    "print(X_train)"
   ]
  },
  {
   "cell_type": "code",
   "execution_count": 5,
   "id": "suffering-musician",
   "metadata": {
    "execution": {
     "iopub.execute_input": "2021-06-07T13:36:57.454341Z",
     "iopub.status.busy": "2021-06-07T13:36:57.453857Z",
     "iopub.status.idle": "2021-06-07T13:36:57.459410Z",
     "shell.execute_reply": "2021-06-07T13:36:57.459807Z",
     "shell.execute_reply.started": "2021-06-07T13:25:48.507048Z"
    },
    "executionInfo": {
     "elapsed": 2158,
     "status": "ok",
     "timestamp": 1588265315502,
     "user": {
      "displayName": "Hadelin de Ponteves",
      "photoUrl": "https://lh3.googleusercontent.com/a-/AOh14GhEuXdT7eQweUmRPW8_laJuPggSK6hfvpl5a6WBaA=s64",
      "userId": "15047218817161520419"
     },
     "user_tz": -240
    },
    "id": "8dpDLojm1mVG",
    "outputId": "7ae11087-76ab-4027-c94e-9eb18f7573bf",
    "papermill": {
     "duration": 0.046587,
     "end_time": "2021-06-07T13:36:57.459957",
     "exception": false,
     "start_time": "2021-06-07T13:36:57.413370",
     "status": "completed"
    },
    "tags": []
   },
   "outputs": [
    {
     "name": "stdout",
     "output_type": "stream",
     "text": [
      "[2 2 3 ... 3 0 1]\n"
     ]
    }
   ],
   "source": [
    "print(y_train)"
   ]
  },
  {
   "cell_type": "code",
   "execution_count": 6,
   "id": "current-sentence",
   "metadata": {
    "execution": {
     "iopub.execute_input": "2021-06-07T13:36:57.542088Z",
     "iopub.status.busy": "2021-06-07T13:36:57.541495Z",
     "iopub.status.idle": "2021-06-07T13:36:57.546806Z",
     "shell.execute_reply": "2021-06-07T13:36:57.547184Z",
     "shell.execute_reply.started": "2021-06-07T13:25:48.513757Z"
    },
    "executionInfo": {
     "elapsed": 2154,
     "status": "ok",
     "timestamp": 1588265315503,
     "user": {
      "displayName": "Hadelin de Ponteves",
      "photoUrl": "https://lh3.googleusercontent.com/a-/AOh14GhEuXdT7eQweUmRPW8_laJuPggSK6hfvpl5a6WBaA=s64",
      "userId": "15047218817161520419"
     },
     "user_tz": -240
    },
    "id": "qbb7i0DH1qui",
    "outputId": "94e717d7-fa9a-4e22-9c68-d43421cbfb92",
    "papermill": {
     "duration": 0.049607,
     "end_time": "2021-06-07T13:36:57.547351",
     "exception": false,
     "start_time": "2021-06-07T13:36:57.497744",
     "status": "completed"
    },
    "tags": []
   },
   "outputs": [
    {
     "name": "stdout",
     "output_type": "stream",
     "text": [
      "[[1.454e+03 1.000e+00 5.000e-01 ... 1.000e+00 1.000e+00 0.000e+00]\n",
      " [1.092e+03 1.000e+00 5.000e-01 ... 0.000e+00 1.000e+00 0.000e+00]\n",
      " [1.524e+03 1.000e+00 1.800e+00 ... 1.000e+00 0.000e+00 1.000e+00]\n",
      " ...\n",
      " [1.759e+03 1.000e+00 1.400e+00 ... 1.000e+00 1.000e+00 0.000e+00]\n",
      " [5.140e+02 1.000e+00 1.600e+00 ... 1.000e+00 1.000e+00 1.000e+00]\n",
      " [1.410e+03 1.000e+00 5.000e-01 ... 1.000e+00 1.000e+00 0.000e+00]]\n"
     ]
    }
   ],
   "source": [
    "print(X_test)"
   ]
  },
  {
   "cell_type": "code",
   "execution_count": 7,
   "id": "blond-first",
   "metadata": {
    "execution": {
     "iopub.execute_input": "2021-06-07T13:36:57.628926Z",
     "iopub.status.busy": "2021-06-07T13:36:57.628306Z",
     "iopub.status.idle": "2021-06-07T13:36:57.632396Z",
     "shell.execute_reply": "2021-06-07T13:36:57.631890Z",
     "shell.execute_reply.started": "2021-06-07T13:25:48.528381Z"
    },
    "executionInfo": {
     "elapsed": 2149,
     "status": "ok",
     "timestamp": 1588265315503,
     "user": {
      "displayName": "Hadelin de Ponteves",
      "photoUrl": "https://lh3.googleusercontent.com/a-/AOh14GhEuXdT7eQweUmRPW8_laJuPggSK6hfvpl5a6WBaA=s64",
      "userId": "15047218817161520419"
     },
     "user_tz": -240
    },
    "id": "kj1hnFAR1s5w",
    "outputId": "ec9924c4-6d8a-4f20-dbf9-272fbaa24f92",
    "papermill": {
     "duration": 0.046719,
     "end_time": "2021-06-07T13:36:57.632499",
     "exception": false,
     "start_time": "2021-06-07T13:36:57.585780",
     "status": "completed"
    },
    "tags": []
   },
   "outputs": [
    {
     "name": "stdout",
     "output_type": "stream",
     "text": [
      "[3 0 2 2 2 0 0 3 3 1 1 3 0 2 3 0 3 2 2 1 0 0 3 1 2 2 3 1 3 1 1 0 2 0 1 3 0\n",
      " 0 3 3 3 1 3 3 1 3 0 1 3 1 1 3 0 3 0 3 2 2 0 3 3 1 3 2 1 2 3 2 2 2 3 2 1 0\n",
      " 1 3 2 2 1 2 3 3 3 0 0 0 2 1 2 3 1 2 2 1 0 3 3 3 0 3 1 1 2 1 3 2 2 3 2 3 3\n",
      " 0 0 1 3 3 0 0 1 0 0 3 2 2 1 1 1 1 0 2 1 3 2 3 3 3 3 2 0 1 1 2 1 3 1 3 0 0\n",
      " 2 0 1 1 1 1 3 0 0 3 1 3 2 1 3 1 2 3 3 2 1 0 3 1 2 3 3 0 2 2 3 0 2 1 0 1 2\n",
      " 1 2 0 3 3 1 1 0 2 3 0 1 2 2 0 3 3 3 1 2 3 3 3 0 0 0 2 3 3 0 0 1 3 1 3 3 3\n",
      " 0 0 2 3 3 1 0 2 0 0 0 3 2 0 2 2 1 1 0 2 3 3 0 0 1 3 3 2 3 0 3 1 1 0 2 3 3\n",
      " 2 0 0 1 2 3 2 2 3 2 1 0 3 3 2 1 3 2 2 2 1 0 2 2 1 0 0 2 2 2 2 0 1 3 0 1 2\n",
      " 3 0 2 0 1 1 3 0 0 2 3 1 2 0 2 0 3 0 3 3 2 3 1 2 2 1 1 1 0 1 0 3 1 0 3 0 0\n",
      " 1 3 0 3 1 2 0 1 3 0 2 2 1 2 1 1 0 2 0 0 3 1 2 3 2 2 0 3 2 2 1 3 2 3 3 3 0\n",
      " 2 0 3 0 1 1 2 2 1 3 1 2 0 1 2 3 0 0 1 3 0 3 0 2 2 1 1 0 2 1 0 1 3 0 3 3 0\n",
      " 2 1 3 1 1 3 2 0 3 2 2 0 0 3 0 1 1 1 3 2 3 2 0 3 0 0 1 3 0 0 3 2 2 2 3 0 0\n",
      " 1 2 1 2 0 3 3 0 3 3 0 2 2 1 0 2 2 1 3 2 2 0 2 0 3 3 2 1 0 3 1 2 0 0 1 3 0\n",
      " 3 0 0 2 2 0 1 3 0 3 2 1 2 0 3 1 2 3 2]\n"
     ]
    }
   ],
   "source": [
    "print(y_test)"
   ]
  },
  {
   "cell_type": "code",
   "execution_count": 8,
   "id": "technological-cornwall",
   "metadata": {
    "execution": {
     "iopub.execute_input": "2021-06-07T13:36:57.714719Z",
     "iopub.status.busy": "2021-06-07T13:36:57.714222Z",
     "iopub.status.idle": "2021-06-07T13:36:57.728391Z",
     "shell.execute_reply": "2021-06-07T13:36:57.729121Z",
     "shell.execute_reply.started": "2021-06-07T13:28:28.409769Z"
    },
    "papermill": {
     "duration": 0.058234,
     "end_time": "2021-06-07T13:36:57.729398",
     "exception": false,
     "start_time": "2021-06-07T13:36:57.671164",
     "status": "completed"
    },
    "tags": []
   },
   "outputs": [
    {
     "name": "stdout",
     "output_type": "stream",
     "text": [
      "   battery_power  blue  clock_speed  dual_sim  fc  four_g  int_memory  m_dep  \\\n",
      "0           1043     1          1.8         1  14       0           5    0.1   \n",
      "1            841     1          0.5         1   4       1          61    0.8   \n",
      "2           1807     1          2.8         0   1       0          27    0.9   \n",
      "3           1546     0          0.5         1  18       1          25    0.5   \n",
      "4           1434     0          1.4         0  11       1          49    0.5   \n",
      "\n",
      "   mobile_wt  n_cores  pc  px_height  px_width   ram  sc_h  sc_w  talk_time  \\\n",
      "0        193        3  16        226      1412  3476    12     7          2   \n",
      "1        191        5  12        746       857  3895     6     0          7   \n",
      "2        186        3   4       1270      1366  2396    17    10         10   \n",
      "3         96        8  20        295      1752  3893    10     0          7   \n",
      "4        108        6  18        749       810  1773    15     8          7   \n",
      "\n",
      "   three_g  touch_screen  wifi  \n",
      "0        0             1     0  \n",
      "1        1             0     0  \n",
      "2        0             1     1  \n",
      "3        1             1     0  \n",
      "4        1             0     1  \n"
     ]
    }
   ],
   "source": [
    "print(data_test.head())"
   ]
  },
  {
   "cell_type": "markdown",
   "id": "focused-capital",
   "metadata": {
    "id": "kW3c7UYih0hT",
    "papermill": {
     "duration": 0.038694,
     "end_time": "2021-06-07T13:36:57.807610",
     "exception": false,
     "start_time": "2021-06-07T13:36:57.768916",
     "status": "completed"
    },
    "tags": []
   },
   "source": [
    "## Feature Scaling"
   ]
  },
  {
   "cell_type": "code",
   "execution_count": 9,
   "id": "partial-soundtrack",
   "metadata": {
    "execution": {
     "iopub.execute_input": "2021-06-07T13:36:57.891176Z",
     "iopub.status.busy": "2021-06-07T13:36:57.890689Z",
     "iopub.status.idle": "2021-06-07T13:36:57.899031Z",
     "shell.execute_reply": "2021-06-07T13:36:57.899443Z",
     "shell.execute_reply.started": "2021-06-07T13:25:48.589908Z"
    },
    "id": "9fQlDPKCh8sc",
    "papermill": {
     "duration": 0.052451,
     "end_time": "2021-06-07T13:36:57.899584",
     "exception": false,
     "start_time": "2021-06-07T13:36:57.847133",
     "status": "completed"
    },
    "tags": []
   },
   "outputs": [],
   "source": [
    "from sklearn.preprocessing import StandardScaler\n",
    "sc = StandardScaler()\n",
    "X_train = sc.fit_transform(X_train)\n",
    "X_test = sc.transform(X_test)\n",
    "data_test = sc.fit_transform(data_test)"
   ]
  },
  {
   "cell_type": "code",
   "execution_count": 10,
   "id": "burning-brazilian",
   "metadata": {
    "execution": {
     "iopub.execute_input": "2021-06-07T13:36:57.979347Z",
     "iopub.status.busy": "2021-06-07T13:36:57.978865Z",
     "iopub.status.idle": "2021-06-07T13:36:57.983812Z",
     "shell.execute_reply": "2021-06-07T13:36:57.984456Z",
     "shell.execute_reply.started": "2021-06-07T13:25:48.605911Z"
    },
    "executionInfo": {
     "elapsed": 2139,
     "status": "ok",
     "timestamp": 1588265315503,
     "user": {
      "displayName": "Hadelin de Ponteves",
      "photoUrl": "https://lh3.googleusercontent.com/a-/AOh14GhEuXdT7eQweUmRPW8_laJuPggSK6hfvpl5a6WBaA=s64",
      "userId": "15047218817161520419"
     },
     "user_tz": -240
    },
    "id": "syrnD1Op2BSR",
    "outputId": "711172c9-25a5-4c03-e835-6ab94766bdc0",
    "papermill": {
     "duration": 0.046216,
     "end_time": "2021-06-07T13:36:57.984619",
     "exception": false,
     "start_time": "2021-06-07T13:36:57.938403",
     "status": "completed"
    },
    "tags": []
   },
   "outputs": [
    {
     "name": "stdout",
     "output_type": "stream",
     "text": [
      "[[-1.58954736 -0.97628121 -0.54409463 ... -1.77951304  1.01072417\n",
      "  -1.02840321]\n",
      " [-1.06204271  1.02429504 -0.42202734 ...  0.56195149  1.01072417\n",
      "  -1.02840321]\n",
      " [ 1.31059626  1.02429504 -0.29996004 ...  0.56195149  1.01072417\n",
      "   0.97238125]\n",
      " ...\n",
      " [-0.09759213 -0.97628121  0.55451104 ... -1.77951304 -0.98938962\n",
      "   0.97238125]\n",
      " [-0.09532817 -0.97628121  1.04278023 ...  0.56195149  1.01072417\n",
      "   0.97238125]\n",
      " [-1.19335288 -0.97628121 -1.27649842 ...  0.56195149 -0.98938962\n",
      "   0.97238125]]\n"
     ]
    }
   ],
   "source": [
    "print(X_train)"
   ]
  },
  {
   "cell_type": "code",
   "execution_count": 11,
   "id": "disciplinary-score",
   "metadata": {
    "execution": {
     "iopub.execute_input": "2021-06-07T13:36:58.120160Z",
     "iopub.status.busy": "2021-06-07T13:36:58.119433Z",
     "iopub.status.idle": "2021-06-07T13:36:58.123154Z",
     "shell.execute_reply": "2021-06-07T13:36:58.123723Z",
     "shell.execute_reply.started": "2021-06-07T13:25:48.615827Z"
    },
    "executionInfo": {
     "elapsed": 2133,
     "status": "ok",
     "timestamp": 1588265315504,
     "user": {
      "displayName": "Hadelin de Ponteves",
      "photoUrl": "https://lh3.googleusercontent.com/a-/AOh14GhEuXdT7eQweUmRPW8_laJuPggSK6hfvpl5a6WBaA=s64",
      "userId": "15047218817161520419"
     },
     "user_tz": -240
    },
    "id": "JUd6iBRp2C3L",
    "outputId": "3ed7b1f1-8fb7-48bc-8df8-39b6f65081ae",
    "papermill": {
     "duration": 0.078248,
     "end_time": "2021-06-07T13:36:58.123897",
     "exception": false,
     "start_time": "2021-06-07T13:36:58.045649",
     "status": "completed"
    },
    "tags": []
   },
   "outputs": [
    {
     "name": "stdout",
     "output_type": "stream",
     "text": [
      "[[ 0.50009554  1.02429504 -1.27649842 ...  0.56195149  1.01072417\n",
      "  -1.02840321]\n",
      " [-0.31946105  1.02429504 -1.27649842 ... -1.77951304  1.01072417\n",
      "  -1.02840321]\n",
      " [ 0.65857334  1.02429504  0.31037645 ...  0.56195149 -0.98938962\n",
      "   0.97238125]\n",
      " ...\n",
      " [ 1.19060593  1.02429504 -0.17789274 ...  0.56195149  1.01072417\n",
      "  -1.02840321]\n",
      " [-1.62803483  1.02429504  0.06624185 ...  0.56195149  1.01072417\n",
      "   0.97238125]\n",
      " [ 0.40048093  1.02429504 -1.27649842 ...  0.56195149  1.01072417\n",
      "  -1.02840321]]\n"
     ]
    }
   ],
   "source": [
    "print(X_test)"
   ]
  },
  {
   "cell_type": "markdown",
   "id": "elder-dispatch",
   "metadata": {
    "id": "bb6jCOCQiAmP",
    "papermill": {
     "duration": 0.060232,
     "end_time": "2021-06-07T13:36:58.248958",
     "exception": false,
     "start_time": "2021-06-07T13:36:58.188726",
     "status": "completed"
    },
    "tags": []
   },
   "source": [
    "## Training the Logistic Regression model on the Training set"
   ]
  },
  {
   "cell_type": "code",
   "execution_count": 12,
   "id": "structural-license",
   "metadata": {
    "execution": {
     "iopub.execute_input": "2021-06-07T13:36:58.374461Z",
     "iopub.status.busy": "2021-06-07T13:36:58.373840Z",
     "iopub.status.idle": "2021-06-07T13:36:58.518169Z",
     "shell.execute_reply": "2021-06-07T13:36:58.517702Z",
     "shell.execute_reply.started": "2021-06-07T13:25:48.633118Z"
    },
    "executionInfo": {
     "elapsed": 2125,
     "status": "ok",
     "timestamp": 1588265315505,
     "user": {
      "displayName": "Hadelin de Ponteves",
      "photoUrl": "https://lh3.googleusercontent.com/a-/AOh14GhEuXdT7eQweUmRPW8_laJuPggSK6hfvpl5a6WBaA=s64",
      "userId": "15047218817161520419"
     },
     "user_tz": -240
    },
    "id": "e0pFVAmciHQs",
    "outputId": "67f64468-abdb-4fe7-cce9-de0037119610",
    "papermill": {
     "duration": 0.208517,
     "end_time": "2021-06-07T13:36:58.518327",
     "exception": false,
     "start_time": "2021-06-07T13:36:58.309810",
     "status": "completed"
    },
    "tags": []
   },
   "outputs": [
    {
     "data": {
      "text/plain": [
       "LogisticRegression(random_state=0)"
      ]
     },
     "execution_count": 12,
     "metadata": {},
     "output_type": "execute_result"
    }
   ],
   "source": [
    "from sklearn.linear_model import LogisticRegression\n",
    "classifier = LogisticRegression(random_state = 0)\n",
    "classifier.fit(X_train, y_train)"
   ]
  },
  {
   "cell_type": "markdown",
   "id": "mighty-theme",
   "metadata": {
    "id": "vKYVQH-l5NpE",
    "papermill": {
     "duration": 0.040264,
     "end_time": "2021-06-07T13:36:58.599816",
     "exception": false,
     "start_time": "2021-06-07T13:36:58.559552",
     "status": "completed"
    },
    "tags": []
   },
   "source": [
    "## Predicting the Test set results"
   ]
  },
  {
   "cell_type": "code",
   "execution_count": 13,
   "id": "appropriate-seeker",
   "metadata": {
    "execution": {
     "iopub.execute_input": "2021-06-07T13:36:58.683535Z",
     "iopub.status.busy": "2021-06-07T13:36:58.682613Z",
     "iopub.status.idle": "2021-06-07T13:36:58.687439Z",
     "shell.execute_reply": "2021-06-07T13:36:58.686954Z",
     "shell.execute_reply.started": "2021-06-07T13:25:48.693946Z"
    },
    "executionInfo": {
     "elapsed": 2112,
     "status": "ok",
     "timestamp": 1588265315506,
     "user": {
      "displayName": "Hadelin de Ponteves",
      "photoUrl": "https://lh3.googleusercontent.com/a-/AOh14GhEuXdT7eQweUmRPW8_laJuPggSK6hfvpl5a6WBaA=s64",
      "userId": "15047218817161520419"
     },
     "user_tz": -240
    },
    "id": "p6VMTb2O4hwM",
    "outputId": "a4f03a97-2942-45cd-f735-f4063277a96c",
    "papermill": {
     "duration": 0.047571,
     "end_time": "2021-06-07T13:36:58.687562",
     "exception": false,
     "start_time": "2021-06-07T13:36:58.639991",
     "status": "completed"
    },
    "tags": []
   },
   "outputs": [],
   "source": [
    "y_pred = classifier.predict(X_test)"
   ]
  },
  {
   "cell_type": "markdown",
   "id": "stopped-contemporary",
   "metadata": {
    "id": "h4Hwj34ziWQW",
    "papermill": {
     "duration": 0.039208,
     "end_time": "2021-06-07T13:36:58.766887",
     "exception": false,
     "start_time": "2021-06-07T13:36:58.727679",
     "status": "completed"
    },
    "tags": []
   },
   "source": [
    "## Making the Confusion Matrix"
   ]
  },
  {
   "cell_type": "code",
   "execution_count": 14,
   "id": "hydraulic-implement",
   "metadata": {
    "execution": {
     "iopub.execute_input": "2021-06-07T13:36:58.852602Z",
     "iopub.status.busy": "2021-06-07T13:36:58.852087Z",
     "iopub.status.idle": "2021-06-07T13:36:58.861327Z",
     "shell.execute_reply": "2021-06-07T13:36:58.862048Z",
     "shell.execute_reply.started": "2021-06-07T13:25:48.701981Z"
    },
    "executionInfo": {
     "elapsed": 2107,
     "status": "ok",
     "timestamp": 1588265315506,
     "user": {
      "displayName": "Hadelin de Ponteves",
      "photoUrl": "https://lh3.googleusercontent.com/a-/AOh14GhEuXdT7eQweUmRPW8_laJuPggSK6hfvpl5a6WBaA=s64",
      "userId": "15047218817161520419"
     },
     "user_tz": -240
    },
    "id": "D6bpZwUiiXic",
    "outputId": "f202fcb3-5882-4d93-e5df-50791185067e",
    "papermill": {
     "duration": 0.054956,
     "end_time": "2021-06-07T13:36:58.862326",
     "exception": false,
     "start_time": "2021-06-07T13:36:58.807370",
     "status": "completed"
    },
    "tags": []
   },
   "outputs": [
    {
     "name": "stdout",
     "output_type": "stream",
     "text": [
      "[[122   2   0   0]\n",
      " [  3 103   4   0]\n",
      " [  0   5 116   4]\n",
      " [  0   0   1 140]]\n"
     ]
    },
    {
     "data": {
      "text/plain": [
       "0.962"
      ]
     },
     "execution_count": 14,
     "metadata": {},
     "output_type": "execute_result"
    }
   ],
   "source": [
    "from sklearn.metrics import confusion_matrix, accuracy_score\n",
    "cm = confusion_matrix(y_test, y_pred)\n",
    "print(cm)\n",
    "accuracy_score(y_test, y_pred)"
   ]
  },
  {
   "cell_type": "markdown",
   "id": "smart-award",
   "metadata": {
    "papermill": {
     "duration": 0.03939,
     "end_time": "2021-06-07T13:36:58.941787",
     "exception": false,
     "start_time": "2021-06-07T13:36:58.902397",
     "status": "completed"
    },
    "tags": []
   },
   "source": [
    "# predicting test dataset"
   ]
  },
  {
   "cell_type": "code",
   "execution_count": 15,
   "id": "honey-standing",
   "metadata": {
    "execution": {
     "iopub.execute_input": "2021-06-07T13:36:59.023527Z",
     "iopub.status.busy": "2021-06-07T13:36:59.022869Z",
     "iopub.status.idle": "2021-06-07T13:36:59.029849Z",
     "shell.execute_reply": "2021-06-07T13:36:59.030365Z",
     "shell.execute_reply.started": "2021-06-07T13:25:48.71832Z"
    },
    "papermill": {
     "duration": 0.049346,
     "end_time": "2021-06-07T13:36:59.030530",
     "exception": false,
     "start_time": "2021-06-07T13:36:58.981184",
     "status": "completed"
    },
    "tags": []
   },
   "outputs": [
    {
     "name": "stdout",
     "output_type": "stream",
     "text": [
      "[2 3 2 3 1 3 3 1 3 0 3 3 0 0 2 0 2 1 3 2 1 3 1 1 3 0 2 0 3 0 2 0 3 0 1 1 3\n",
      " 1 2 1 1 2 0 0 0 1 0 3 1 2 1 0 2 0 3 0 3 1 1 3 3 3 0 1 1 1 2 3 1 2 1 2 2 3\n",
      " 3 0 2 0 1 3 0 3 3 0 3 0 3 1 3 0 1 2 2 1 2 1 1 2 1 2 1 0 0 3 0 2 0 1 2 3 3\n",
      " 2 1 3 3 3 3 2 3 0 0 3 2 1 2 0 3 2 2 2 0 2 2 1 3 1 1 0 3 2 1 2 1 3 2 3 3 3\n",
      " 2 3 2 3 1 0 3 2 3 3 3 3 3 2 3 3 3 3 1 0 3 0 0 0 2 1 0 1 0 0 1 2 1 0 0 1 1\n",
      " 2 2 1 0 0 0 1 0 3 1 0 2 2 2 3 1 2 2 2 3 2 2 1 0 0 1 2 0 2 3 3 0 2 0 3 2 3\n",
      " 3 1 0 1 0 3 0 1 0 2 2 1 3 1 2 0 3 1 2 0 0 2 1 3 3 3 1 1 3 0 0 2 3 3 1 3 1\n",
      " 1 3 2 1 2 3 3 3 1 0 0 2 3 1 1 3 2 1 3 0 0 2 0 0 3 2 3 3 2 1 3 3 2 3 1 2 1\n",
      " 2 0 2 3 1 0 0 3 0 3 0 1 2 0 2 3 1 3 2 2 1 2 0 0 0 1 3 2 0 0 0 3 2 0 2 3 1\n",
      " 2 2 2 3 1 3 3 1 2 2 3 3 0 3 0 3 1 3 1 2 3 0 1 0 3 1 3 2 3 0 0 0 0 2 0 0 2\n",
      " 2 1 2 2 2 0 1 0 0 3 2 0 3 1 2 2 1 2 3 1 1 2 2 1 2 0 1 1 0 3 2 0 0 1 0 0 1\n",
      " 1 0 1 0 2 2 3 2 3 0 3 0 3 0 1 1 0 1 0 3 2 3 3 1 3 1 3 1 2 2 0 1 2 1 1 0 0\n",
      " 0 1 2 1 0 3 2 0 2 2 0 0 3 1 2 0 2 3 3 0 3 0 2 3 2 3 0 2 0 2 2 0 1 1 0 0 1\n",
      " 2 1 3 3 3 2 3 1 2 2 3 3 3 2 0 2 1 2 2 1 0 2 2 0 0 0 3 1 0 2 2 2 0 3 1 2 2\n",
      " 1 3 0 2 3 0 1 1 3 3 2 1 1 3 2 0 2 0 2 0 3 3 1 3 2 2 3 0 1 2 3 1 3 2 3 1 1\n",
      " 0 0 3 1 0 3 2 3 2 0 3 3 3 2 3 3 1 2 0 2 2 3 1 0 1 1 2 2 2 0 0 2 2 3 2 0 2\n",
      " 1 3 3 0 1 3 0 2 1 1 0 0 2 1 0 1 1 2 2 0 2 2 1 0 3 0 0 3 2 0 0 0 0 0 3 0 3\n",
      " 1 3 1 1 3 2 0 1 0 3 2 2 2 1 3 0 2 0 2 0 0 1 1 1 2 1 3 1 3 2 2 1 3 2 0 2 2\n",
      " 0 3 3 0 2 1 1 2 0 3 2 0 3 2 3 0 0 3 0 2 2 3 2 2 2 2 1 2 3 0 1 0 1 2 1 0 0\n",
      " 1 0 0 3 0 1 2 0 1 1 1 3 0 3 2 3 0 0 1 2 2 1 0 1 1 0 1 1 0 0 3 3 0 3 1 1 3\n",
      " 0 1 0 2 1 0 3 1 0 3 0 1 0 3 3 3 2 3 0 3 2 0 0 0 3 3 2 0 2 1 3 0 0 2 2 0 3\n",
      " 1 2 1 1 1 3 1 1 1 2 1 0 2 2 0 2 0 0 0 0 2 3 3 3 0 1 2 1 1 0 0 2 1 0 2 0 3\n",
      " 2 2 1 2 0 2 1 3 0 0 3 2 3 0 0 2 3 3 1 3 2 1 0 0 3 3 1 3 0 0 0 2 2 1 2 0 3\n",
      " 2 1 2 3 3 0 1 1 2 1 2 2 0 1 3 1 1 3 0 2 3 2 1 1 1 3 3 0 2 3 0 2 3 2 2 2 3\n",
      " 2 0 1 2 1 2 1 1 2 2 2 1 2 1 0 1 3 1 0 1 2 3 1 0 0 3 2 2 3 0 3 2 2 1 3 0 1\n",
      " 3 1 1 1 1 3 2 0 3 0 2 3 0 3 1 3 3 1 0 2 3 1 0 2 1 2 1 2 0 2 2 0 2 3 2 3 0\n",
      " 2 1 1 2 2 3 3 0 2 1 2 1 3 1 0 3 0 1 0 0 3 3 2 0 0 0 0 3 2 3 3 0 0 2 1 0 2\n",
      " 2]\n"
     ]
    }
   ],
   "source": [
    "test_pred = classifier.predict(data_test)\n",
    "print(test_pred)"
   ]
  },
  {
   "cell_type": "markdown",
   "id": "legendary-russia",
   "metadata": {
    "papermill": {
     "duration": 0.040674,
     "end_time": "2021-06-07T13:36:59.113459",
     "exception": false,
     "start_time": "2021-06-07T13:36:59.072785",
     "status": "completed"
    },
    "tags": []
   },
   "source": [
    "## Training the K-NN model on the Training set"
   ]
  },
  {
   "cell_type": "code",
   "execution_count": 16,
   "id": "reverse-discount",
   "metadata": {
    "execution": {
     "iopub.execute_input": "2021-06-07T13:36:59.199642Z",
     "iopub.status.busy": "2021-06-07T13:36:59.199091Z",
     "iopub.status.idle": "2021-06-07T13:36:59.281037Z",
     "shell.execute_reply": "2021-06-07T13:36:59.281499Z",
     "shell.execute_reply.started": "2021-06-07T13:25:48.730731Z"
    },
    "papermill": {
     "duration": 0.127582,
     "end_time": "2021-06-07T13:36:59.281636",
     "exception": false,
     "start_time": "2021-06-07T13:36:59.154054",
     "status": "completed"
    },
    "tags": []
   },
   "outputs": [
    {
     "data": {
      "text/plain": [
       "KNeighborsClassifier()"
      ]
     },
     "execution_count": 16,
     "metadata": {},
     "output_type": "execute_result"
    }
   ],
   "source": [
    "from sklearn.neighbors import KNeighborsClassifier\n",
    "classifier = KNeighborsClassifier(n_neighbors = 5, metric = 'minkowski', p = 2)\n",
    "classifier.fit(X_train, y_train)"
   ]
  },
  {
   "cell_type": "markdown",
   "id": "dying-spirituality",
   "metadata": {
    "papermill": {
     "duration": 0.039959,
     "end_time": "2021-06-07T13:36:59.362047",
     "exception": false,
     "start_time": "2021-06-07T13:36:59.322088",
     "status": "completed"
    },
    "tags": []
   },
   "source": [
    "## Predicting the Test set results"
   ]
  },
  {
   "cell_type": "code",
   "execution_count": 17,
   "id": "coated-charleston",
   "metadata": {
    "execution": {
     "iopub.execute_input": "2021-06-07T13:36:59.445613Z",
     "iopub.status.busy": "2021-06-07T13:36:59.444984Z",
     "iopub.status.idle": "2021-06-07T13:36:59.491223Z",
     "shell.execute_reply": "2021-06-07T13:36:59.490285Z",
     "shell.execute_reply.started": "2021-06-07T13:25:48.74254Z"
    },
    "papermill": {
     "duration": 0.088752,
     "end_time": "2021-06-07T13:36:59.491374",
     "exception": false,
     "start_time": "2021-06-07T13:36:59.402622",
     "status": "completed"
    },
    "tags": []
   },
   "outputs": [],
   "source": [
    "y_pred = classifier.predict(X_test)"
   ]
  },
  {
   "cell_type": "markdown",
   "id": "cognitive-navigator",
   "metadata": {
    "papermill": {
     "duration": 0.046201,
     "end_time": "2021-06-07T13:36:59.591803",
     "exception": false,
     "start_time": "2021-06-07T13:36:59.545602",
     "status": "completed"
    },
    "tags": []
   },
   "source": [
    "# Making the Confusion Matrix"
   ]
  },
  {
   "cell_type": "code",
   "execution_count": 18,
   "id": "cosmetic-classic",
   "metadata": {
    "execution": {
     "iopub.execute_input": "2021-06-07T13:36:59.678781Z",
     "iopub.status.busy": "2021-06-07T13:36:59.678100Z",
     "iopub.status.idle": "2021-06-07T13:36:59.683420Z",
     "shell.execute_reply": "2021-06-07T13:36:59.682919Z",
     "shell.execute_reply.started": "2021-06-07T13:25:48.815019Z"
    },
    "papermill": {
     "duration": 0.051365,
     "end_time": "2021-06-07T13:36:59.683523",
     "exception": false,
     "start_time": "2021-06-07T13:36:59.632158",
     "status": "completed"
    },
    "tags": []
   },
   "outputs": [
    {
     "name": "stdout",
     "output_type": "stream",
     "text": [
      "[[84 36  3  1]\n",
      " [37 50 19  4]\n",
      " [14 46 49 16]\n",
      " [ 0 13 62 66]]\n"
     ]
    },
    {
     "data": {
      "text/plain": [
       "0.498"
      ]
     },
     "execution_count": 18,
     "metadata": {},
     "output_type": "execute_result"
    }
   ],
   "source": [
    "cm = confusion_matrix(y_test, y_pred)\n",
    "print(cm)\n",
    "accuracy_score(y_test, y_pred)"
   ]
  },
  {
   "cell_type": "markdown",
   "id": "dietary-spanish",
   "metadata": {
    "papermill": {
     "duration": 0.040632,
     "end_time": "2021-06-07T13:36:59.765401",
     "exception": false,
     "start_time": "2021-06-07T13:36:59.724769",
     "status": "completed"
    },
    "tags": []
   },
   "source": [
    "# predicting test dataset"
   ]
  },
  {
   "cell_type": "code",
   "execution_count": 19,
   "id": "liquid-waterproof",
   "metadata": {
    "execution": {
     "iopub.execute_input": "2021-06-07T13:36:59.858541Z",
     "iopub.status.busy": "2021-06-07T13:36:59.857845Z",
     "iopub.status.idle": "2021-06-07T13:36:59.924648Z",
     "shell.execute_reply": "2021-06-07T13:36:59.925119Z",
     "shell.execute_reply.started": "2021-06-07T13:25:48.833176Z"
    },
    "papermill": {
     "duration": 0.119307,
     "end_time": "2021-06-07T13:36:59.925291",
     "exception": false,
     "start_time": "2021-06-07T13:36:59.805984",
     "status": "completed"
    },
    "tags": []
   },
   "outputs": [
    {
     "name": "stdout",
     "output_type": "stream",
     "text": [
      "[2 3 1 3 1 3 3 1 2 0 3 2 0 1 0 0 1 1 2 2 2 3 0 1 3 1 1 0 2 1 1 2 3 1 1 1 2\n",
      " 0 3 2 1 1 0 0 0 0 0 1 2 2 2 1 2 0 1 0 3 1 0 2 3 2 1 1 1 0 1 1 1 2 0 1 3 1\n",
      " 3 0 1 1 2 3 0 2 3 0 3 0 2 1 1 1 2 3 0 0 0 0 0 1 0 2 0 1 0 3 1 1 0 1 1 2 3\n",
      " 0 1 3 3 2 2 2 2 2 0 3 0 2 1 1 2 2 2 1 0 1 1 2 2 0 1 1 3 2 1 2 1 2 3 2 2 3\n",
      " 2 1 1 3 1 2 1 3 3 2 2 3 2 2 2 1 3 2 1 0 3 0 0 0 1 1 0 1 2 0 0 1 1 0 0 1 0\n",
      " 3 1 2 0 0 0 0 2 3 0 2 2 1 1 1 0 1 3 1 2 2 1 1 0 0 1 1 0 3 3 2 0 2 0 1 1 0\n",
      " 2 1 0 2 1 2 0 0 1 2 1 2 1 1 2 0 3 0 1 0 0 2 1 2 2 3 1 1 3 0 0 3 2 3 1 3 2\n",
      " 1 3 1 0 2 2 1 3 0 0 0 0 1 1 0 3 2 2 3 0 2 1 0 0 3 2 3 2 2 1 2 2 0 3 0 1 0\n",
      " 2 0 1 1 1 0 1 3 0 3 0 0 1 1 1 2 0 2 3 3 0 3 0 0 1 0 2 3 1 1 0 2 1 0 1 3 1\n",
      " 2 1 1 2 0 3 3 1 0 1 2 3 0 3 1 1 1 3 1 0 1 1 2 1 2 1 1 0 2 0 1 0 0 1 0 0 2\n",
      " 0 0 1 3 2 0 2 0 0 1 2 0 2 1 2 1 0 0 3 1 1 2 1 1 2 0 2 0 1 2 1 1 0 3 0 0 1\n",
      " 0 0 1 1 3 1 3 3 3 0 2 0 3 0 1 0 0 1 0 2 2 3 3 2 2 2 2 2 0 2 0 1 1 0 0 1 0\n",
      " 0 1 3 1 0 2 3 0 1 1 0 0 2 2 2 1 2 0 2 0 2 0 2 2 2 3 0 1 0 0 2 1 1 1 0 0 1\n",
      " 1 1 2 3 2 2 3 1 3 3 3 3 2 3 1 2 1 1 2 0 0 1 1 0 0 1 3 1 2 1 2 3 1 3 1 1 1\n",
      " 1 3 0 1 3 0 0 1 2 1 1 0 0 1 2 0 2 0 1 0 1 2 1 3 1 0 2 0 0 1 1 1 3 2 2 0 1\n",
      " 0 0 3 2 0 3 2 3 3 1 3 1 3 2 3 2 1 1 1 1 1 3 0 0 0 1 1 0 2 1 1 1 2 3 2 0 2\n",
      " 0 3 2 1 2 1 0 2 2 2 0 0 3 1 0 0 2 2 1 1 1 1 0 0 2 0 0 2 2 1 1 1 0 0 3 0 2\n",
      " 1 3 1 0 2 2 0 1 0 2 0 1 1 0 2 0 1 0 1 0 1 2 0 1 3 1 2 1 3 1 1 3 2 1 1 1 2\n",
      " 0 2 3 0 2 0 1 1 0 2 1 0 1 1 3 0 0 2 0 2 1 3 2 1 0 1 0 2 3 1 0 0 2 2 2 0 0\n",
      " 1 0 0 2 0 1 3 0 0 0 1 2 0 2 2 3 0 0 3 0 1 1 1 1 1 0 2 0 0 0 2 3 1 2 1 2 2\n",
      " 0 2 0 0 2 0 2 2 0 1 1 0 0 1 3 2 3 2 0 2 1 0 1 2 1 2 2 0 2 1 2 2 0 2 2 2 3\n",
      " 0 1 3 0 0 2 0 1 0 1 0 0 0 2 0 0 0 0 1 0 1 1 2 2 0 0 1 1 2 1 0 2 1 0 1 1 2\n",
      " 0 1 2 3 1 1 0 2 0 1 2 1 1 0 0 3 1 2 0 3 1 1 0 0 1 3 0 2 0 0 0 2 1 0 1 0 2\n",
      " 2 0 1 1 2 0 2 2 2 1 1 2 1 0 3 1 0 3 0 1 3 0 1 0 2 1 0 0 0 3 1 3 2 1 3 1 3\n",
      " 2 1 1 3 0 2 1 3 1 2 0 2 0 1 1 1 3 2 0 1 1 2 1 0 0 3 2 3 1 0 2 3 2 1 2 0 0\n",
      " 2 0 2 2 1 2 3 0 3 0 2 3 0 2 0 3 1 2 1 1 3 0 0 1 0 2 0 2 0 2 1 0 1 3 1 3 1\n",
      " 2 3 1 1 1 2 2 0 1 2 1 1 1 1 0 3 0 1 1 0 3 2 1 1 1 0 0 3 3 2 3 0 0 2 1 1 0\n",
      " 2]\n"
     ]
    }
   ],
   "source": [
    "test_pred = classifier.predict(data_test)\n",
    "print(test_pred)"
   ]
  },
  {
   "cell_type": "markdown",
   "id": "superior-thomas",
   "metadata": {
    "papermill": {
     "duration": 0.041339,
     "end_time": "2021-06-07T13:37:00.020565",
     "exception": false,
     "start_time": "2021-06-07T13:36:59.979226",
     "status": "completed"
    },
    "tags": []
   },
   "source": [
    "# Training the SVM model on the Training set"
   ]
  },
  {
   "cell_type": "code",
   "execution_count": 20,
   "id": "useful-omega",
   "metadata": {
    "execution": {
     "iopub.execute_input": "2021-06-07T13:37:00.110182Z",
     "iopub.status.busy": "2021-06-07T13:37:00.109621Z",
     "iopub.status.idle": "2021-06-07T13:37:00.163570Z",
     "shell.execute_reply": "2021-06-07T13:37:00.162884Z",
     "shell.execute_reply.started": "2021-06-07T13:25:48.976948Z"
    },
    "papermill": {
     "duration": 0.10138,
     "end_time": "2021-06-07T13:37:00.163721",
     "exception": false,
     "start_time": "2021-06-07T13:37:00.062341",
     "status": "completed"
    },
    "tags": []
   },
   "outputs": [
    {
     "data": {
      "text/plain": [
       "SVC(kernel='linear', random_state=0)"
      ]
     },
     "execution_count": 20,
     "metadata": {},
     "output_type": "execute_result"
    }
   ],
   "source": [
    "from sklearn.svm import SVC\n",
    "classifier = SVC(kernel = 'linear', random_state = 0)\n",
    "classifier.fit(X_train, y_train)"
   ]
  },
  {
   "cell_type": "markdown",
   "id": "hybrid-atlas",
   "metadata": {
    "papermill": {
     "duration": 0.064606,
     "end_time": "2021-06-07T13:37:00.293695",
     "exception": false,
     "start_time": "2021-06-07T13:37:00.229089",
     "status": "completed"
    },
    "tags": []
   },
   "source": [
    "# Predicting the Test set results"
   ]
  },
  {
   "cell_type": "code",
   "execution_count": 21,
   "id": "linear-comfort",
   "metadata": {
    "execution": {
     "iopub.execute_input": "2021-06-07T13:37:00.427653Z",
     "iopub.status.busy": "2021-06-07T13:37:00.426977Z",
     "iopub.status.idle": "2021-06-07T13:37:00.434506Z",
     "shell.execute_reply": "2021-06-07T13:37:00.433860Z",
     "shell.execute_reply.started": "2021-06-07T13:25:49.045866Z"
    },
    "papermill": {
     "duration": 0.076373,
     "end_time": "2021-06-07T13:37:00.434653",
     "exception": false,
     "start_time": "2021-06-07T13:37:00.358280",
     "status": "completed"
    },
    "tags": []
   },
   "outputs": [],
   "source": [
    "y_pred = classifier.predict(X_test)"
   ]
  },
  {
   "cell_type": "markdown",
   "id": "desperate-legislation",
   "metadata": {
    "papermill": {
     "duration": 0.06556,
     "end_time": "2021-06-07T13:37:00.564588",
     "exception": false,
     "start_time": "2021-06-07T13:37:00.499028",
     "status": "completed"
    },
    "tags": []
   },
   "source": [
    "# Making the Confusion Matrix"
   ]
  },
  {
   "cell_type": "code",
   "execution_count": 22,
   "id": "boxed-demonstration",
   "metadata": {
    "execution": {
     "iopub.execute_input": "2021-06-07T13:37:00.700747Z",
     "iopub.status.busy": "2021-06-07T13:37:00.700180Z",
     "iopub.status.idle": "2021-06-07T13:37:00.707485Z",
     "shell.execute_reply": "2021-06-07T13:37:00.706907Z",
     "shell.execute_reply.started": "2021-06-07T13:25:49.061858Z"
    },
    "papermill": {
     "duration": 0.077846,
     "end_time": "2021-06-07T13:37:00.707628",
     "exception": false,
     "start_time": "2021-06-07T13:37:00.629782",
     "status": "completed"
    },
    "tags": []
   },
   "outputs": [
    {
     "name": "stdout",
     "output_type": "stream",
     "text": [
      "[[121   3   0   0]\n",
      " [  4 103   3   0]\n",
      " [  0   6 114   5]\n",
      " [  0   0   2 139]]\n"
     ]
    },
    {
     "data": {
      "text/plain": [
       "0.954"
      ]
     },
     "execution_count": 22,
     "metadata": {},
     "output_type": "execute_result"
    }
   ],
   "source": [
    "cm = confusion_matrix(y_test, y_pred)\n",
    "print(cm)\n",
    "accuracy_score(y_test, y_pred)"
   ]
  },
  {
   "cell_type": "markdown",
   "id": "solar-parent",
   "metadata": {
    "papermill": {
     "duration": 0.043421,
     "end_time": "2021-06-07T13:37:00.795493",
     "exception": false,
     "start_time": "2021-06-07T13:37:00.752072",
     "status": "completed"
    },
    "tags": []
   },
   "source": [
    "# predicting test dataset"
   ]
  },
  {
   "cell_type": "code",
   "execution_count": 23,
   "id": "fatal-ranking",
   "metadata": {
    "execution": {
     "iopub.execute_input": "2021-06-07T13:37:00.884761Z",
     "iopub.status.busy": "2021-06-07T13:37:00.884272Z",
     "iopub.status.idle": "2021-06-07T13:37:00.922451Z",
     "shell.execute_reply": "2021-06-07T13:37:00.921926Z",
     "shell.execute_reply.started": "2021-06-07T13:25:49.07429Z"
    },
    "papermill": {
     "duration": 0.084497,
     "end_time": "2021-06-07T13:37:00.922578",
     "exception": false,
     "start_time": "2021-06-07T13:37:00.838081",
     "status": "completed"
    },
    "tags": []
   },
   "outputs": [
    {
     "name": "stdout",
     "output_type": "stream",
     "text": [
      "[2 3 2 3 1 3 3 1 3 0 3 3 0 0 2 0 2 1 3 2 1 3 1 1 3 0 2 0 3 0 2 0 3 0 1 1 3\n",
      " 1 2 1 1 2 0 0 0 1 0 3 1 2 1 0 3 0 3 0 3 1 0 3 3 3 0 1 1 1 2 3 1 2 1 2 2 3\n",
      " 3 0 2 0 1 3 0 3 3 0 3 0 3 1 3 0 1 2 2 1 2 1 1 2 1 2 1 0 0 3 0 2 1 1 2 3 3\n",
      " 3 1 3 3 3 3 2 3 0 0 3 2 1 2 0 3 2 2 2 0 2 1 1 3 1 1 0 3 2 1 2 1 3 2 3 3 3\n",
      " 2 3 2 3 1 0 3 2 3 3 2 3 2 2 3 3 3 3 1 0 3 0 0 0 2 1 0 1 0 0 0 2 1 0 0 1 1\n",
      " 2 2 1 0 0 0 1 0 3 1 0 2 2 2 3 1 1 2 2 3 2 2 1 0 0 1 2 0 2 3 3 0 2 0 3 2 3\n",
      " 3 1 0 1 0 3 0 1 0 2 2 1 3 1 2 0 3 1 2 0 0 2 1 3 3 3 1 1 3 0 0 2 3 3 1 3 1\n",
      " 1 3 2 1 2 3 3 3 1 0 0 2 3 1 1 3 2 1 3 0 0 3 1 0 3 2 3 3 2 1 3 3 2 3 1 2 1\n",
      " 2 0 2 3 1 0 0 3 0 3 0 1 2 0 2 3 1 3 2 2 1 2 0 0 0 1 3 2 0 0 0 3 2 0 2 3 1\n",
      " 2 2 2 3 1 3 3 2 2 2 3 3 0 3 1 3 1 3 1 2 3 0 1 0 3 1 3 2 3 0 0 0 0 2 0 0 2\n",
      " 2 1 2 2 2 0 1 0 0 3 2 0 3 1 2 2 1 2 3 1 1 2 2 1 2 0 1 1 0 3 1 0 0 1 0 0 1\n",
      " 1 0 1 0 2 2 3 2 3 0 3 0 3 0 1 1 0 2 0 3 2 3 3 1 3 1 3 1 2 2 0 1 2 1 1 0 0\n",
      " 0 1 2 1 0 3 2 0 2 2 0 0 3 1 2 0 2 3 3 0 3 0 2 3 2 3 0 2 0 2 2 0 1 1 0 0 1\n",
      " 2 1 3 3 3 2 3 1 2 2 3 3 3 2 0 2 1 2 2 1 0 2 2 0 0 0 3 1 0 2 2 2 0 3 1 2 2\n",
      " 1 3 0 2 3 0 1 1 3 3 1 1 1 3 2 0 2 0 2 0 3 3 1 3 2 2 3 0 1 2 3 1 3 2 3 1 1\n",
      " 0 0 3 1 0 3 2 3 2 0 2 3 3 2 3 3 1 2 0 2 2 3 1 0 0 1 2 2 2 0 0 2 2 3 2 0 2\n",
      " 1 3 3 0 1 3 0 2 1 1 0 0 2 1 0 1 1 2 2 0 2 2 1 0 3 0 0 3 2 0 0 0 0 0 3 0 3\n",
      " 1 3 1 1 3 2 0 1 0 3 2 2 2 1 3 0 2 0 2 0 0 1 1 1 2 1 3 1 3 2 2 1 3 2 0 2 2\n",
      " 0 3 3 0 2 1 1 2 0 3 2 0 3 2 3 0 0 3 0 2 2 3 2 2 2 2 1 2 3 0 1 0 1 2 1 0 0\n",
      " 1 0 0 3 1 1 2 0 0 1 1 3 0 3 2 3 0 0 1 2 2 1 0 1 1 0 1 1 0 1 3 3 0 3 1 1 3\n",
      " 0 1 0 2 1 0 3 1 0 3 0 1 0 3 3 3 2 3 0 3 2 0 0 0 3 3 2 0 2 1 2 0 0 2 2 0 3\n",
      " 1 2 1 1 1 3 1 1 1 2 1 0 2 2 0 2 0 0 0 0 2 3 3 3 0 1 2 1 1 0 0 2 1 0 2 0 3\n",
      " 2 2 1 2 0 2 1 3 0 0 3 2 3 0 0 2 3 3 1 3 2 1 0 0 2 3 1 3 0 0 0 2 2 1 2 0 3\n",
      " 2 1 2 3 3 0 1 1 2 1 2 2 0 1 3 1 1 3 0 2 3 2 1 1 1 3 3 0 2 3 0 2 3 2 2 2 3\n",
      " 2 0 1 2 1 2 1 1 2 2 2 1 2 1 0 1 3 1 0 1 2 3 1 0 0 3 2 2 3 0 3 2 2 1 3 0 1\n",
      " 3 1 1 1 1 3 2 0 3 0 2 3 0 3 1 3 3 1 0 2 3 1 0 2 1 2 1 2 0 2 2 0 2 3 2 3 0\n",
      " 2 1 1 2 2 3 3 0 2 1 2 1 3 1 0 3 0 1 0 0 3 3 2 0 0 0 0 3 2 3 3 0 0 2 1 0 2\n",
      " 2]\n"
     ]
    }
   ],
   "source": [
    "test_pred = classifier.predict(data_test)\n",
    "print(test_pred)"
   ]
  },
  {
   "cell_type": "markdown",
   "id": "instructional-miracle",
   "metadata": {
    "papermill": {
     "duration": 0.042493,
     "end_time": "2021-06-07T13:37:01.009021",
     "exception": false,
     "start_time": "2021-06-07T13:37:00.966528",
     "status": "completed"
    },
    "tags": []
   },
   "source": [
    "# Training the Kernel SVM model on the Training set"
   ]
  },
  {
   "cell_type": "code",
   "execution_count": 24,
   "id": "valued-synthetic",
   "metadata": {
    "execution": {
     "iopub.execute_input": "2021-06-07T13:37:01.097671Z",
     "iopub.status.busy": "2021-06-07T13:37:01.096978Z",
     "iopub.status.idle": "2021-06-07T13:37:01.208672Z",
     "shell.execute_reply": "2021-06-07T13:37:01.208188Z",
     "shell.execute_reply.started": "2021-06-07T13:25:49.100299Z"
    },
    "papermill": {
     "duration": 0.156976,
     "end_time": "2021-06-07T13:37:01.208782",
     "exception": false,
     "start_time": "2021-06-07T13:37:01.051806",
     "status": "completed"
    },
    "tags": []
   },
   "outputs": [
    {
     "data": {
      "text/plain": [
       "SVC(random_state=0)"
      ]
     },
     "execution_count": 24,
     "metadata": {},
     "output_type": "execute_result"
    }
   ],
   "source": [
    "from sklearn.svm import SVC\n",
    "classifier = SVC(kernel='rbf', random_state = 0)\n",
    "classifier.fit(X_train, y_train)"
   ]
  },
  {
   "cell_type": "markdown",
   "id": "expanded-halloween",
   "metadata": {
    "papermill": {
     "duration": 0.042688,
     "end_time": "2021-06-07T13:37:01.295737",
     "exception": false,
     "start_time": "2021-06-07T13:37:01.253049",
     "status": "completed"
    },
    "tags": []
   },
   "source": [
    "# Predicting the Test set results"
   ]
  },
  {
   "cell_type": "code",
   "execution_count": 25,
   "id": "abstract-bridge",
   "metadata": {
    "execution": {
     "iopub.execute_input": "2021-06-07T13:37:01.385381Z",
     "iopub.status.busy": "2021-06-07T13:37:01.384685Z",
     "iopub.status.idle": "2021-06-07T13:37:01.429538Z",
     "shell.execute_reply": "2021-06-07T13:37:01.430043Z",
     "shell.execute_reply.started": "2021-06-07T13:25:49.245749Z"
    },
    "papermill": {
     "duration": 0.0915,
     "end_time": "2021-06-07T13:37:01.430213",
     "exception": false,
     "start_time": "2021-06-07T13:37:01.338713",
     "status": "completed"
    },
    "tags": []
   },
   "outputs": [],
   "source": [
    "y_pred = classifier.predict(X_test)"
   ]
  },
  {
   "cell_type": "markdown",
   "id": "double-defeat",
   "metadata": {
    "papermill": {
     "duration": 0.06774,
     "end_time": "2021-06-07T13:37:01.566926",
     "exception": false,
     "start_time": "2021-06-07T13:37:01.499186",
     "status": "completed"
    },
    "tags": []
   },
   "source": [
    "# Making the Confusion Matrix"
   ]
  },
  {
   "cell_type": "code",
   "execution_count": 26,
   "id": "unauthorized-berkeley",
   "metadata": {
    "execution": {
     "iopub.execute_input": "2021-06-07T13:37:01.707641Z",
     "iopub.status.busy": "2021-06-07T13:37:01.705881Z",
     "iopub.status.idle": "2021-06-07T13:37:01.712538Z",
     "shell.execute_reply": "2021-06-07T13:37:01.713015Z",
     "shell.execute_reply.started": "2021-06-07T13:25:49.302875Z"
    },
    "papermill": {
     "duration": 0.079098,
     "end_time": "2021-06-07T13:37:01.713180",
     "exception": false,
     "start_time": "2021-06-07T13:37:01.634082",
     "status": "completed"
    },
    "tags": []
   },
   "outputs": [
    {
     "name": "stdout",
     "output_type": "stream",
     "text": [
      "[[118   6   0   0]\n",
      " [  6  97   7   0]\n",
      " [  0  15 106   4]\n",
      " [  0   0  16 125]]\n"
     ]
    },
    {
     "data": {
      "text/plain": [
       "0.892"
      ]
     },
     "execution_count": 26,
     "metadata": {},
     "output_type": "execute_result"
    }
   ],
   "source": [
    "cm = confusion_matrix(y_test, y_pred)\n",
    "print(cm)\n",
    "accuracy_score(y_test, y_pred)"
   ]
  },
  {
   "cell_type": "markdown",
   "id": "artificial-transport",
   "metadata": {
    "papermill": {
     "duration": 0.068247,
     "end_time": "2021-06-07T13:37:01.850769",
     "exception": false,
     "start_time": "2021-06-07T13:37:01.782522",
     "status": "completed"
    },
    "tags": []
   },
   "source": [
    "# predicting test dataset"
   ]
  },
  {
   "cell_type": "code",
   "execution_count": 27,
   "id": "decimal-debate",
   "metadata": {
    "execution": {
     "iopub.execute_input": "2021-06-07T13:37:01.988946Z",
     "iopub.status.busy": "2021-06-07T13:37:01.988288Z",
     "iopub.status.idle": "2021-06-07T13:37:02.079306Z",
     "shell.execute_reply": "2021-06-07T13:37:02.079802Z",
     "shell.execute_reply.started": "2021-06-07T13:25:49.315895Z"
    },
    "papermill": {
     "duration": 0.161782,
     "end_time": "2021-06-07T13:37:02.079956",
     "exception": false,
     "start_time": "2021-06-07T13:37:01.918174",
     "status": "completed"
    },
    "tags": []
   },
   "outputs": [
    {
     "name": "stdout",
     "output_type": "stream",
     "text": [
      "[2 3 2 3 1 3 3 1 3 0 3 3 0 0 2 0 2 1 3 2 1 3 1 1 3 0 2 0 2 0 2 0 3 0 1 1 3\n",
      " 1 2 1 1 2 0 0 0 1 0 3 1 2 2 0 2 0 3 1 3 1 0 3 3 2 0 1 1 1 2 3 1 2 1 2 2 3\n",
      " 3 0 2 0 2 3 0 3 3 0 3 0 2 1 3 0 1 1 2 1 2 1 0 2 1 3 1 0 0 3 0 2 0 1 2 3 3\n",
      " 2 1 3 3 3 3 1 3 0 0 3 2 1 1 1 3 2 2 1 0 2 1 1 3 1 1 0 3 2 1 2 1 3 2 3 3 3\n",
      " 2 3 2 3 1 0 3 2 3 3 2 3 3 2 3 3 3 3 1 0 3 0 0 0 1 1 0 1 0 0 1 2 1 0 0 1 1\n",
      " 2 2 1 0 0 0 1 1 3 1 0 2 2 2 2 1 1 3 3 3 2 2 1 0 0 1 3 0 2 3 3 0 2 0 3 2 2\n",
      " 3 1 0 1 0 3 0 1 0 2 2 1 3 1 2 0 3 1 2 0 0 2 1 2 2 3 1 1 3 0 0 2 3 3 1 3 1\n",
      " 1 3 2 1 2 3 3 3 1 0 0 2 3 1 1 3 2 0 3 0 1 2 1 0 3 2 3 3 2 1 3 3 2 3 1 2 1\n",
      " 1 0 2 3 1 0 0 3 0 3 0 1 2 0 2 3 1 3 2 2 0 3 0 0 0 1 3 2 0 1 0 3 1 0 3 3 1\n",
      " 2 3 2 3 1 3 3 2 2 2 2 3 0 3 1 3 1 3 1 2 2 0 1 0 2 1 3 2 3 0 0 0 1 2 0 0 2\n",
      " 2 1 2 2 2 0 1 0 0 3 2 0 3 1 2 2 1 2 3 1 1 2 1 1 2 0 1 1 0 3 2 0 0 1 0 0 1\n",
      " 1 0 0 0 2 2 3 1 3 0 2 0 2 0 1 1 0 1 0 3 2 3 3 1 3 2 2 1 2 2 0 1 1 1 1 0 0\n",
      " 0 1 2 1 0 3 3 0 2 2 0 0 3 1 1 0 2 2 3 0 3 0 2 3 2 3 0 2 0 2 2 0 1 1 0 0 1\n",
      " 1 1 2 3 3 1 3 1 2 2 2 3 3 1 0 2 1 2 2 1 0 2 2 0 0 0 3 1 0 2 2 2 0 3 1 2 2\n",
      " 1 3 0 2 3 0 1 1 3 3 1 1 1 3 2 0 2 1 2 0 3 3 1 3 2 2 3 0 1 2 3 1 3 2 3 1 1\n",
      " 0 0 3 2 0 3 2 3 3 0 2 3 3 2 3 2 1 1 0 2 2 3 1 0 0 1 2 2 2 0 0 2 2 3 1 0 2\n",
      " 0 3 2 0 1 3 0 2 1 1 0 0 2 1 0 0 1 2 2 0 2 2 1 0 3 0 0 3 2 0 0 0 0 0 3 0 3\n",
      " 0 3 1 2 3 2 0 1 1 3 2 3 2 0 3 0 2 0 2 0 0 0 1 1 2 1 2 0 3 2 1 1 3 2 0 2 2\n",
      " 0 2 3 0 2 1 1 2 0 3 2 0 3 2 3 0 0 3 0 2 2 3 2 1 2 3 0 2 3 0 1 1 2 2 1 0 0\n",
      " 1 0 0 2 1 1 2 0 1 0 1 3 0 3 2 3 0 0 1 2 2 1 0 1 1 0 1 1 0 0 3 3 0 3 1 1 3\n",
      " 0 1 0 2 2 1 3 1 0 3 1 1 0 3 3 3 2 3 0 3 2 0 1 0 3 3 2 0 2 1 3 0 0 2 2 1 2\n",
      " 1 1 1 2 1 3 1 1 1 2 1 0 2 2 0 2 0 0 1 0 3 3 3 3 0 1 2 1 1 0 0 2 1 0 2 0 2\n",
      " 2 2 1 2 0 1 1 3 0 0 3 2 3 0 0 2 3 2 1 2 2 1 0 0 3 3 1 3 0 0 0 2 2 1 2 0 3\n",
      " 3 1 2 3 3 0 1 1 2 1 2 2 0 1 3 1 1 3 0 2 3 2 1 1 2 3 3 0 2 3 0 2 3 2 2 2 3\n",
      " 2 0 1 2 1 1 1 1 1 2 2 1 2 1 1 1 3 0 0 1 2 3 1 0 0 3 2 2 3 0 3 2 2 1 3 0 1\n",
      " 3 1 1 1 1 3 2 0 3 0 2 3 0 3 1 3 3 1 0 2 3 1 0 1 1 2 1 2 0 2 2 0 2 3 2 3 0\n",
      " 2 1 1 2 2 3 3 0 2 1 2 1 3 0 0 3 0 2 0 0 3 3 2 0 0 0 0 3 2 3 3 0 0 2 1 1 2\n",
      " 2]\n"
     ]
    }
   ],
   "source": [
    "test_pred = classifier.predict(data_test)\n",
    "print(test_pred)"
   ]
  },
  {
   "cell_type": "markdown",
   "id": "latest-regulation",
   "metadata": {
    "papermill": {
     "duration": 0.069684,
     "end_time": "2021-06-07T13:37:02.217452",
     "exception": false,
     "start_time": "2021-06-07T13:37:02.147768",
     "status": "completed"
    },
    "tags": []
   },
   "source": [
    "# Training the Naive Bayes model on the Training set"
   ]
  },
  {
   "cell_type": "code",
   "execution_count": 28,
   "id": "ongoing-letter",
   "metadata": {
    "execution": {
     "iopub.execute_input": "2021-06-07T13:37:02.358069Z",
     "iopub.status.busy": "2021-06-07T13:37:02.357432Z",
     "iopub.status.idle": "2021-06-07T13:37:02.367538Z",
     "shell.execute_reply": "2021-06-07T13:37:02.367005Z",
     "shell.execute_reply.started": "2021-06-07T13:25:49.429439Z"
    },
    "papermill": {
     "duration": 0.081355,
     "end_time": "2021-06-07T13:37:02.367675",
     "exception": false,
     "start_time": "2021-06-07T13:37:02.286320",
     "status": "completed"
    },
    "tags": []
   },
   "outputs": [
    {
     "data": {
      "text/plain": [
       "GaussianNB()"
      ]
     },
     "execution_count": 28,
     "metadata": {},
     "output_type": "execute_result"
    }
   ],
   "source": [
    "from sklearn.naive_bayes import GaussianNB\n",
    "classifier = GaussianNB()\n",
    "classifier.fit(X_train, y_train)"
   ]
  },
  {
   "cell_type": "markdown",
   "id": "grateful-richardson",
   "metadata": {
    "papermill": {
     "duration": 0.06766,
     "end_time": "2021-06-07T13:37:02.503512",
     "exception": false,
     "start_time": "2021-06-07T13:37:02.435852",
     "status": "completed"
    },
    "tags": []
   },
   "source": [
    "# Predicting the Test set results"
   ]
  },
  {
   "cell_type": "code",
   "execution_count": 29,
   "id": "outside-tourism",
   "metadata": {
    "execution": {
     "iopub.execute_input": "2021-06-07T13:37:02.645142Z",
     "iopub.status.busy": "2021-06-07T13:37:02.644474Z",
     "iopub.status.idle": "2021-06-07T13:37:02.648467Z",
     "shell.execute_reply": "2021-06-07T13:37:02.647764Z",
     "shell.execute_reply.started": "2021-06-07T13:25:49.442016Z"
    },
    "papermill": {
     "duration": 0.076004,
     "end_time": "2021-06-07T13:37:02.648608",
     "exception": false,
     "start_time": "2021-06-07T13:37:02.572604",
     "status": "completed"
    },
    "tags": []
   },
   "outputs": [],
   "source": [
    "y_pred = classifier.predict(X_test)"
   ]
  },
  {
   "cell_type": "markdown",
   "id": "capital-hollywood",
   "metadata": {
    "papermill": {
     "duration": 0.068506,
     "end_time": "2021-06-07T13:37:02.785944",
     "exception": false,
     "start_time": "2021-06-07T13:37:02.717438",
     "status": "completed"
    },
    "tags": []
   },
   "source": [
    "# Making the Confusion Matrix"
   ]
  },
  {
   "cell_type": "code",
   "execution_count": 30,
   "id": "described-sauce",
   "metadata": {
    "execution": {
     "iopub.execute_input": "2021-06-07T13:37:02.928625Z",
     "iopub.status.busy": "2021-06-07T13:37:02.927081Z",
     "iopub.status.idle": "2021-06-07T13:37:02.936565Z",
     "shell.execute_reply": "2021-06-07T13:37:02.936032Z",
     "shell.execute_reply.started": "2021-06-07T13:25:49.451803Z"
    },
    "papermill": {
     "duration": 0.082486,
     "end_time": "2021-06-07T13:37:02.936695",
     "exception": false,
     "start_time": "2021-06-07T13:37:02.854209",
     "status": "completed"
    },
    "tags": []
   },
   "outputs": [
    {
     "name": "stdout",
     "output_type": "stream",
     "text": [
      "[[117   7   0   0]\n",
      " [  6  83  21   0]\n",
      " [  0  22  92  11]\n",
      " [  0   0  11 130]]\n"
     ]
    },
    {
     "data": {
      "text/plain": [
       "0.844"
      ]
     },
     "execution_count": 30,
     "metadata": {},
     "output_type": "execute_result"
    }
   ],
   "source": [
    "cm = confusion_matrix(y_test, y_pred)\n",
    "print(cm)\n",
    "accuracy_score(y_test, y_pred)"
   ]
  },
  {
   "cell_type": "markdown",
   "id": "senior-assembly",
   "metadata": {
    "papermill": {
     "duration": 0.045083,
     "end_time": "2021-06-07T13:37:03.026485",
     "exception": false,
     "start_time": "2021-06-07T13:37:02.981402",
     "status": "completed"
    },
    "tags": []
   },
   "source": [
    "# predicting test dataset"
   ]
  },
  {
   "cell_type": "code",
   "execution_count": 31,
   "id": "starting-maximum",
   "metadata": {
    "execution": {
     "iopub.execute_input": "2021-06-07T13:37:03.118722Z",
     "iopub.status.busy": "2021-06-07T13:37:03.118273Z",
     "iopub.status.idle": "2021-06-07T13:37:03.124405Z",
     "shell.execute_reply": "2021-06-07T13:37:03.124803Z",
     "shell.execute_reply.started": "2021-06-07T13:25:49.471963Z"
    },
    "papermill": {
     "duration": 0.053451,
     "end_time": "2021-06-07T13:37:03.124948",
     "exception": false,
     "start_time": "2021-06-07T13:37:03.071497",
     "status": "completed"
    },
    "tags": []
   },
   "outputs": [
    {
     "name": "stdout",
     "output_type": "stream",
     "text": [
      "[3 3 2 3 1 3 3 1 3 0 3 3 0 0 2 0 1 2 3 2 1 3 1 2 3 0 2 0 3 0 2 0 3 0 0 1 3\n",
      " 1 2 2 1 2 0 0 0 0 1 2 1 2 2 0 2 0 3 0 3 1 1 3 3 3 1 1 1 1 1 2 1 1 1 1 2 3\n",
      " 3 0 2 0 2 3 0 3 3 0 3 0 3 1 2 0 1 1 2 0 2 1 0 2 1 2 1 0 0 2 1 2 0 1 2 3 3\n",
      " 3 1 3 3 3 3 1 3 0 0 3 2 1 1 0 3 2 2 1 0 1 1 2 3 1 1 0 3 2 1 2 2 2 3 3 3 2\n",
      " 2 3 2 3 0 0 2 2 3 3 3 3 2 2 3 3 3 3 1 0 3 0 0 0 1 0 0 1 0 0 2 2 0 0 0 1 2\n",
      " 2 1 1 0 0 0 0 0 3 1 0 2 1 2 3 1 2 2 3 3 1 2 1 0 1 2 2 1 2 3 3 0 2 0 3 2 2\n",
      " 2 0 0 1 0 3 0 1 0 2 2 1 3 0 3 0 3 1 2 0 0 2 1 2 2 3 1 1 3 0 0 2 3 3 1 3 1\n",
      " 0 3 2 1 2 3 3 3 1 0 1 1 3 1 1 3 2 0 3 0 1 2 0 0 3 2 3 2 2 1 3 2 2 3 2 2 1\n",
      " 1 0 2 3 1 0 0 3 0 3 0 1 1 0 1 3 1 3 1 2 1 2 0 0 0 1 3 1 0 0 0 3 1 1 3 3 1\n",
      " 2 3 2 3 1 3 3 2 2 2 3 3 0 3 0 3 1 3 1 3 3 0 1 1 3 1 3 1 3 0 0 0 0 2 0 1 1\n",
      " 1 1 1 2 2 0 1 0 0 3 2 1 3 1 2 2 2 1 3 1 1 2 2 1 2 0 1 1 0 3 2 0 0 1 0 0 1\n",
      " 0 0 0 0 2 2 3 2 3 0 3 1 3 0 1 1 1 2 0 3 2 3 3 1 3 1 3 1 3 2 1 2 2 2 1 0 0\n",
      " 0 1 1 1 0 3 3 1 2 3 0 0 3 2 1 0 2 2 3 0 3 1 2 3 2 3 0 2 0 2 2 0 1 1 0 0 1\n",
      " 1 2 2 3 3 2 3 1 1 2 2 3 3 1 1 3 2 1 2 1 0 2 2 0 1 0 3 1 0 3 2 2 0 3 0 2 2\n",
      " 0 3 0 2 3 0 2 1 3 3 1 1 2 3 2 0 2 1 3 0 3 3 1 2 2 2 3 0 1 1 3 1 3 2 3 1 1\n",
      " 1 0 3 1 0 3 2 3 1 0 3 3 3 2 3 3 1 1 0 2 3 3 1 0 1 1 1 2 2 1 0 2 2 3 1 0 2\n",
      " 1 3 3 0 1 3 1 2 1 0 0 0 2 1 0 1 1 2 2 0 2 3 1 0 3 0 0 3 2 0 0 0 0 0 3 0 3\n",
      " 1 3 2 1 3 3 0 1 1 3 2 2 1 0 3 0 1 1 2 0 1 1 1 1 2 1 3 1 3 2 1 1 3 2 0 1 3\n",
      " 0 3 3 0 2 1 2 2 0 3 2 0 3 2 3 0 0 3 0 1 2 3 2 1 1 2 1 1 3 0 1 0 2 2 1 0 0\n",
      " 1 0 0 3 0 1 1 0 1 1 0 3 0 3 2 3 0 0 1 2 2 1 0 1 1 0 1 2 0 0 3 3 1 2 1 2 3\n",
      " 0 1 0 1 2 0 3 2 0 3 1 1 0 2 3 2 2 3 0 3 2 0 1 0 2 3 2 0 2 1 2 1 0 2 2 0 3\n",
      " 1 1 1 1 1 3 1 2 2 2 0 0 1 1 0 2 0 0 0 0 3 3 3 3 0 1 2 1 1 0 0 2 1 0 2 0 2\n",
      " 2 2 2 2 0 1 1 3 0 0 3 1 3 0 0 2 2 2 1 3 3 2 0 0 2 3 0 3 0 0 0 2 2 1 2 0 3\n",
      " 2 1 2 2 3 0 1 2 2 0 2 2 0 1 3 1 1 3 1 2 3 2 1 1 2 3 3 0 2 3 0 2 3 2 2 2 3\n",
      " 2 0 1 2 0 2 1 1 1 3 2 1 2 0 0 1 3 0 0 2 1 3 1 0 0 3 2 2 2 0 3 3 2 1 3 1 1\n",
      " 3 1 2 1 2 2 2 0 3 0 2 3 0 3 1 3 3 1 1 2 3 1 0 1 1 2 1 3 0 2 2 0 2 3 2 3 0\n",
      " 2 1 1 1 2 3 3 0 2 2 2 1 2 0 1 2 0 1 0 0 3 2 2 0 0 0 0 3 2 3 2 0 0 1 1 0 2\n",
      " 2]\n"
     ]
    }
   ],
   "source": [
    "test_pred = classifier.predict(data_test)\n",
    "print(test_pred)"
   ]
  },
  {
   "cell_type": "markdown",
   "id": "banner-perth",
   "metadata": {
    "papermill": {
     "duration": 0.045622,
     "end_time": "2021-06-07T13:37:03.216911",
     "exception": false,
     "start_time": "2021-06-07T13:37:03.171289",
     "status": "completed"
    },
    "tags": []
   },
   "source": [
    "# Training the Decision Tree Classification model on the Training set"
   ]
  },
  {
   "cell_type": "code",
   "execution_count": 32,
   "id": "romantic-scholar",
   "metadata": {
    "execution": {
     "iopub.execute_input": "2021-06-07T13:37:03.310872Z",
     "iopub.status.busy": "2021-06-07T13:37:03.310376Z",
     "iopub.status.idle": "2021-06-07T13:37:03.374809Z",
     "shell.execute_reply": "2021-06-07T13:37:03.374331Z",
     "shell.execute_reply.started": "2021-06-07T13:25:49.487912Z"
    },
    "papermill": {
     "duration": 0.112354,
     "end_time": "2021-06-07T13:37:03.374919",
     "exception": false,
     "start_time": "2021-06-07T13:37:03.262565",
     "status": "completed"
    },
    "tags": []
   },
   "outputs": [
    {
     "data": {
      "text/plain": [
       "DecisionTreeClassifier(criterion='entropy', random_state=0)"
      ]
     },
     "execution_count": 32,
     "metadata": {},
     "output_type": "execute_result"
    }
   ],
   "source": [
    "from sklearn.tree import DecisionTreeClassifier\n",
    "classifier = DecisionTreeClassifier(criterion = 'entropy', random_state = 0)\n",
    "classifier.fit(X_train, y_train)"
   ]
  },
  {
   "cell_type": "markdown",
   "id": "formed-teens",
   "metadata": {
    "papermill": {
     "duration": 0.045969,
     "end_time": "2021-06-07T13:37:03.466431",
     "exception": false,
     "start_time": "2021-06-07T13:37:03.420462",
     "status": "completed"
    },
    "tags": []
   },
   "source": [
    "# Predicting the Test set results"
   ]
  },
  {
   "cell_type": "code",
   "execution_count": 33,
   "id": "valued-actor",
   "metadata": {
    "execution": {
     "iopub.execute_input": "2021-06-07T13:37:03.561835Z",
     "iopub.status.busy": "2021-06-07T13:37:03.561291Z",
     "iopub.status.idle": "2021-06-07T13:37:03.564187Z",
     "shell.execute_reply": "2021-06-07T13:37:03.563796Z",
     "shell.execute_reply.started": "2021-06-07T13:25:49.518176Z"
    },
    "papermill": {
     "duration": 0.052384,
     "end_time": "2021-06-07T13:37:03.564319",
     "exception": false,
     "start_time": "2021-06-07T13:37:03.511935",
     "status": "completed"
    },
    "tags": []
   },
   "outputs": [],
   "source": [
    "y_pred = classifier.predict(X_test)"
   ]
  },
  {
   "cell_type": "markdown",
   "id": "animated-jamaica",
   "metadata": {
    "papermill": {
     "duration": 0.045818,
     "end_time": "2021-06-07T13:37:03.656609",
     "exception": false,
     "start_time": "2021-06-07T13:37:03.610791",
     "status": "completed"
    },
    "tags": []
   },
   "source": [
    "# Making the Confusion Matrix"
   ]
  },
  {
   "cell_type": "code",
   "execution_count": 34,
   "id": "immediate-treaty",
   "metadata": {
    "execution": {
     "iopub.execute_input": "2021-06-07T13:37:03.751470Z",
     "iopub.status.busy": "2021-06-07T13:37:03.750950Z",
     "iopub.status.idle": "2021-06-07T13:37:03.757231Z",
     "shell.execute_reply": "2021-06-07T13:37:03.757739Z",
     "shell.execute_reply.started": "2021-06-07T13:25:49.524866Z"
    },
    "papermill": {
     "duration": 0.055963,
     "end_time": "2021-06-07T13:37:03.757919",
     "exception": false,
     "start_time": "2021-06-07T13:37:03.701956",
     "status": "completed"
    },
    "tags": []
   },
   "outputs": [
    {
     "name": "stdout",
     "output_type": "stream",
     "text": [
      "[[110  14   0   0]\n",
      " [  9  92   9   0]\n",
      " [  0  13 102  10]\n",
      " [  0   0  15 126]]\n"
     ]
    },
    {
     "data": {
      "text/plain": [
       "0.86"
      ]
     },
     "execution_count": 34,
     "metadata": {},
     "output_type": "execute_result"
    }
   ],
   "source": [
    "from sklearn.metrics import confusion_matrix, accuracy_score\n",
    "cm = confusion_matrix(y_test, y_pred)\n",
    "print(cm)\n",
    "accuracy_score(y_test, y_pred)"
   ]
  },
  {
   "cell_type": "markdown",
   "id": "loving-avatar",
   "metadata": {
    "papermill": {
     "duration": 0.047944,
     "end_time": "2021-06-07T13:37:03.854124",
     "exception": false,
     "start_time": "2021-06-07T13:37:03.806180",
     "status": "completed"
    },
    "tags": []
   },
   "source": [
    "# predicting test dataset"
   ]
  },
  {
   "cell_type": "code",
   "execution_count": 35,
   "id": "looking-burning",
   "metadata": {
    "execution": {
     "iopub.execute_input": "2021-06-07T13:37:03.951841Z",
     "iopub.status.busy": "2021-06-07T13:37:03.951167Z",
     "iopub.status.idle": "2021-06-07T13:37:03.958997Z",
     "shell.execute_reply": "2021-06-07T13:37:03.958584Z",
     "shell.execute_reply.started": "2021-06-07T13:25:49.542133Z"
    },
    "papermill": {
     "duration": 0.057612,
     "end_time": "2021-06-07T13:37:03.959115",
     "exception": false,
     "start_time": "2021-06-07T13:37:03.901503",
     "status": "completed"
    },
    "tags": []
   },
   "outputs": [
    {
     "name": "stdout",
     "output_type": "stream",
     "text": [
      "[3 3 3 3 1 3 3 1 3 0 3 3 0 0 2 0 2 1 3 2 1 2 1 2 3 0 2 0 3 0 2 0 3 0 0 1 3\n",
      " 1 2 1 1 1 0 0 0 1 0 3 1 2 1 0 3 0 3 1 3 1 1 3 3 2 0 1 1 1 2 3 1 2 1 2 2 3\n",
      " 3 0 2 0 1 3 0 3 3 0 3 0 3 1 3 1 1 2 2 0 2 1 1 2 1 2 1 0 0 3 0 2 0 1 2 3 3\n",
      " 2 1 3 3 3 3 1 3 0 0 2 1 1 2 0 3 2 3 1 0 2 1 1 3 0 1 0 3 2 1 3 1 3 2 3 3 2\n",
      " 2 3 2 3 0 0 2 2 3 3 3 3 2 2 3 2 3 3 1 0 3 0 0 1 2 1 0 1 1 1 1 2 0 0 0 0 1\n",
      " 2 2 1 0 0 0 1 0 3 2 0 2 2 2 3 1 1 2 3 3 2 2 1 0 0 1 2 0 2 3 3 0 2 0 3 2 2\n",
      " 3 0 0 1 0 3 0 1 0 2 2 1 3 1 2 0 3 1 2 0 0 2 1 2 3 3 1 1 3 0 0 2 3 3 1 3 1\n",
      " 1 3 2 1 2 3 3 3 1 0 0 2 3 1 1 3 2 0 3 0 1 2 1 0 3 2 3 2 2 1 3 3 2 3 2 2 1\n",
      " 2 0 2 3 1 0 0 3 0 3 0 1 2 0 2 3 1 3 2 2 0 2 0 0 0 1 3 2 0 0 0 3 2 0 3 3 1\n",
      " 2 2 2 3 1 3 3 1 2 2 3 3 0 3 1 3 1 3 1 3 3 0 2 1 3 1 3 2 3 0 0 0 0 2 0 0 2\n",
      " 2 1 2 2 2 0 1 0 0 3 2 0 3 1 2 2 1 2 3 1 1 2 1 1 2 0 1 1 0 3 2 1 0 1 0 0 1\n",
      " 0 0 1 0 2 2 3 2 3 0 2 0 3 0 1 1 1 1 0 3 2 3 3 1 3 1 2 2 2 2 0 1 1 1 1 0 0\n",
      " 0 1 2 1 0 2 2 0 2 3 0 0 3 1 2 0 3 2 3 0 3 0 2 3 3 3 0 2 0 2 3 0 1 1 0 0 1\n",
      " 1 1 3 3 3 1 3 1 2 2 2 3 3 2 0 2 1 2 2 1 0 2 2 0 0 0 3 1 1 2 2 2 0 3 0 1 2\n",
      " 1 3 0 2 3 0 1 1 3 3 1 1 1 3 2 0 2 1 2 0 3 3 1 2 2 2 3 0 1 2 3 1 3 2 3 2 1\n",
      " 1 1 3 1 0 3 2 3 2 0 3 3 3 2 2 2 0 2 0 2 2 3 0 0 0 1 2 2 1 0 0 2 2 3 1 0 2\n",
      " 1 3 3 0 1 3 0 2 0 0 0 0 2 1 0 1 1 2 2 0 2 2 1 0 3 0 0 3 2 1 0 1 0 0 3 0 3\n",
      " 1 3 2 1 3 3 0 1 0 3 1 2 1 1 3 0 2 0 2 0 1 1 1 1 2 2 3 1 3 2 2 1 3 2 0 1 2\n",
      " 0 3 3 0 2 1 1 2 0 3 2 0 3 2 3 0 0 3 0 1 2 3 2 2 2 2 1 1 3 0 1 1 1 2 1 0 0\n",
      " 1 0 0 3 1 1 2 0 0 1 1 3 0 3 2 3 0 0 1 2 1 1 0 1 1 0 1 1 0 0 3 3 1 3 1 1 3\n",
      " 0 1 0 2 2 0 3 1 0 3 1 1 0 3 3 3 2 3 0 3 2 0 0 1 3 3 2 0 1 1 3 1 0 3 2 1 3\n",
      " 1 2 2 1 1 3 1 1 1 2 1 0 1 2 0 2 0 0 0 0 2 3 3 3 0 1 2 2 1 0 0 2 1 0 2 0 3\n",
      " 2 2 1 2 0 1 1 3 0 0 3 2 3 0 0 2 3 3 0 2 2 1 0 0 2 3 0 3 0 0 0 2 2 1 2 0 3\n",
      " 3 1 1 3 2 0 1 1 2 1 2 2 0 1 3 1 1 3 0 2 3 1 1 1 1 3 3 0 3 3 0 2 3 2 2 2 3\n",
      " 2 1 1 2 1 2 1 1 2 2 2 1 1 0 1 1 3 1 0 2 2 2 1 0 0 2 2 2 3 0 3 3 2 2 3 0 0\n",
      " 3 1 1 1 2 3 2 0 3 0 2 3 0 2 2 3 2 1 0 2 3 1 0 2 1 2 1 3 0 3 3 0 2 3 2 3 0\n",
      " 2 1 1 2 2 3 3 0 2 1 2 1 3 1 1 2 0 1 0 0 3 3 2 0 0 0 0 3 2 3 3 0 0 2 1 1 2\n",
      " 2]\n"
     ]
    }
   ],
   "source": [
    "test_pred = classifier.predict(data_test)\n",
    "print(test_pred)"
   ]
  },
  {
   "cell_type": "markdown",
   "id": "finished-passport",
   "metadata": {
    "papermill": {
     "duration": 0.048569,
     "end_time": "2021-06-07T13:37:04.054342",
     "exception": false,
     "start_time": "2021-06-07T13:37:04.005773",
     "status": "completed"
    },
    "tags": []
   },
   "source": [
    "# Training the Random Forest Classification model on the Training set"
   ]
  },
  {
   "cell_type": "code",
   "execution_count": 36,
   "id": "analyzed-roman",
   "metadata": {
    "execution": {
     "iopub.execute_input": "2021-06-07T13:37:04.154558Z",
     "iopub.status.busy": "2021-06-07T13:37:04.154019Z",
     "iopub.status.idle": "2021-06-07T13:37:04.248950Z",
     "shell.execute_reply": "2021-06-07T13:37:04.248496Z",
     "shell.execute_reply.started": "2021-06-07T13:25:49.555639Z"
    },
    "papermill": {
     "duration": 0.146678,
     "end_time": "2021-06-07T13:37:04.249066",
     "exception": false,
     "start_time": "2021-06-07T13:37:04.102388",
     "status": "completed"
    },
    "tags": []
   },
   "outputs": [
    {
     "data": {
      "text/plain": [
       "RandomForestClassifier(criterion='entropy', n_estimators=10, random_state=0)"
      ]
     },
     "execution_count": 36,
     "metadata": {},
     "output_type": "execute_result"
    }
   ],
   "source": [
    "from sklearn.ensemble import RandomForestClassifier\n",
    "classifier = RandomForestClassifier(n_estimators = 10, criterion = 'entropy', random_state = 0)\n",
    "classifier.fit(X_train, y_train)"
   ]
  },
  {
   "cell_type": "markdown",
   "id": "increasing-hindu",
   "metadata": {
    "papermill": {
     "duration": 0.046849,
     "end_time": "2021-06-07T13:37:04.342605",
     "exception": false,
     "start_time": "2021-06-07T13:37:04.295756",
     "status": "completed"
    },
    "tags": []
   },
   "source": [
    "# Predicting the Test set results"
   ]
  },
  {
   "cell_type": "code",
   "execution_count": 37,
   "id": "instructional-teaching",
   "metadata": {
    "execution": {
     "iopub.execute_input": "2021-06-07T13:37:04.440570Z",
     "iopub.status.busy": "2021-06-07T13:37:04.440002Z",
     "iopub.status.idle": "2021-06-07T13:37:04.445229Z",
     "shell.execute_reply": "2021-06-07T13:37:04.445631Z",
     "shell.execute_reply.started": "2021-06-07T13:25:49.631943Z"
    },
    "papermill": {
     "duration": 0.056801,
     "end_time": "2021-06-07T13:37:04.445783",
     "exception": false,
     "start_time": "2021-06-07T13:37:04.388982",
     "status": "completed"
    },
    "tags": []
   },
   "outputs": [],
   "source": [
    "y_pred = classifier.predict(X_test)"
   ]
  },
  {
   "cell_type": "markdown",
   "id": "available-millennium",
   "metadata": {
    "papermill": {
     "duration": 0.045348,
     "end_time": "2021-06-07T13:37:04.538776",
     "exception": false,
     "start_time": "2021-06-07T13:37:04.493428",
     "status": "completed"
    },
    "tags": []
   },
   "source": [
    "# Making the Confusion Matrix"
   ]
  },
  {
   "cell_type": "code",
   "execution_count": 38,
   "id": "backed-jesus",
   "metadata": {
    "execution": {
     "iopub.execute_input": "2021-06-07T13:37:04.635903Z",
     "iopub.status.busy": "2021-06-07T13:37:04.635064Z",
     "iopub.status.idle": "2021-06-07T13:37:04.641872Z",
     "shell.execute_reply": "2021-06-07T13:37:04.641231Z",
     "shell.execute_reply.started": "2021-06-07T13:25:49.644722Z"
    },
    "papermill": {
     "duration": 0.056959,
     "end_time": "2021-06-07T13:37:04.642037",
     "exception": false,
     "start_time": "2021-06-07T13:37:04.585078",
     "status": "completed"
    },
    "tags": []
   },
   "outputs": [
    {
     "name": "stdout",
     "output_type": "stream",
     "text": [
      "[[120   3   1   0]\n",
      " [ 15  80  15   0]\n",
      " [  2  20  90  13]\n",
      " [  1   0  22 118]]\n"
     ]
    },
    {
     "data": {
      "text/plain": [
       "0.816"
      ]
     },
     "execution_count": 38,
     "metadata": {},
     "output_type": "execute_result"
    }
   ],
   "source": [
    "cm = confusion_matrix(y_test, y_pred)\n",
    "print(cm)\n",
    "accuracy_score(y_test, y_pred)"
   ]
  },
  {
   "cell_type": "markdown",
   "id": "chronic-japanese",
   "metadata": {
    "papermill": {
     "duration": 0.071879,
     "end_time": "2021-06-07T13:37:04.786428",
     "exception": false,
     "start_time": "2021-06-07T13:37:04.714549",
     "status": "completed"
    },
    "tags": []
   },
   "source": [
    "# predicting test dataset"
   ]
  },
  {
   "cell_type": "code",
   "execution_count": 39,
   "id": "entertaining-villa",
   "metadata": {
    "execution": {
     "iopub.execute_input": "2021-06-07T13:37:04.935639Z",
     "iopub.status.busy": "2021-06-07T13:37:04.935137Z",
     "iopub.status.idle": "2021-06-07T13:37:04.945812Z",
     "shell.execute_reply": "2021-06-07T13:37:04.945409Z",
     "shell.execute_reply.started": "2021-06-07T13:25:49.65986Z"
    },
    "papermill": {
     "duration": 0.086784,
     "end_time": "2021-06-07T13:37:04.945923",
     "exception": false,
     "start_time": "2021-06-07T13:37:04.859139",
     "status": "completed"
    },
    "tags": []
   },
   "outputs": [
    {
     "name": "stdout",
     "output_type": "stream",
     "text": [
      "[2 2 2 3 1 3 3 1 3 0 3 3 0 0 2 0 1 1 3 1 1 3 1 1 3 0 2 0 2 0 2 0 3 0 0 1 3\n",
      " 1 2 1 1 2 0 0 0 0 0 3 1 2 1 0 2 0 3 1 3 1 1 3 3 3 0 1 1 1 2 3 1 2 1 2 2 3\n",
      " 3 0 2 0 1 3 1 3 3 0 3 0 2 1 2 0 1 1 2 1 2 1 0 2 1 2 1 0 0 3 0 2 0 1 2 3 3\n",
      " 3 1 3 3 3 3 1 3 0 0 2 1 1 1 0 3 2 3 1 0 1 1 0 3 0 1 0 3 2 1 3 1 3 2 3 3 3\n",
      " 0 3 3 3 1 0 3 2 3 3 3 3 3 2 3 2 3 3 1 0 3 0 0 0 1 1 0 2 0 0 0 2 1 0 0 1 2\n",
      " 2 2 1 0 0 0 0 1 3 1 0 2 1 2 3 1 2 2 3 3 1 2 1 0 0 1 3 0 3 3 3 0 2 0 3 1 2\n",
      " 3 0 0 2 0 3 0 1 0 2 1 0 3 0 2 0 3 1 2 0 0 2 1 3 3 3 1 1 3 0 0 2 3 3 1 3 1\n",
      " 1 3 2 0 2 3 3 3 1 0 1 1 3 1 1 3 1 1 3 0 1 2 0 0 3 2 2 2 2 1 3 3 2 3 1 2 1\n",
      " 2 0 2 3 1 0 0 3 0 3 0 0 2 0 1 3 1 3 1 2 1 2 0 0 1 1 3 1 0 1 0 2 1 0 2 3 0\n",
      " 2 3 2 3 1 3 3 2 2 2 2 3 0 3 0 2 1 3 1 2 3 0 1 0 2 1 3 1 3 0 0 0 0 2 0 0 1\n",
      " 1 1 1 2 2 0 1 0 0 3 2 0 3 1 2 2 1 1 3 1 1 2 3 1 2 0 1 1 0 3 2 1 0 1 0 0 1\n",
      " 0 0 0 0 2 2 3 3 3 0 2 0 3 0 2 1 0 2 0 3 2 3 3 1 3 1 2 1 2 2 0 2 2 1 2 0 0\n",
      " 0 1 2 1 0 3 2 0 1 3 0 0 3 0 1 0 3 2 3 0 2 0 2 3 2 3 0 2 0 2 2 0 1 1 0 0 1\n",
      " 1 1 3 3 3 2 3 1 1 2 2 3 3 2 0 2 2 2 3 1 0 2 2 0 0 0 3 1 1 2 2 2 0 3 1 2 2\n",
      " 0 3 0 2 3 0 1 1 3 3 1 0 2 3 2 0 2 1 3 0 3 3 1 3 2 2 3 0 0 2 3 1 3 3 3 1 0\n",
      " 1 0 3 2 0 3 2 3 1 0 3 3 3 2 3 3 1 1 0 2 3 3 0 0 1 1 1 2 1 0 0 2 2 3 1 0 3\n",
      " 1 3 2 0 1 3 0 2 1 1 0 0 2 0 0 1 1 2 2 0 2 2 1 0 3 0 0 3 2 0 0 0 0 0 2 0 3\n",
      " 1 3 2 1 3 3 0 1 1 3 1 2 1 0 2 0 1 0 2 0 0 1 1 1 2 1 2 1 3 1 1 1 3 2 0 1 3\n",
      " 0 3 3 0 2 1 1 2 0 3 2 0 3 2 3 0 0 3 0 2 2 3 3 1 2 3 1 1 3 0 1 0 1 2 1 0 0\n",
      " 1 0 0 2 0 1 1 0 0 1 1 2 0 3 2 3 0 0 1 3 2 1 0 1 1 0 1 1 0 0 3 3 0 3 1 1 3\n",
      " 0 1 0 1 2 0 3 1 0 2 1 1 0 2 3 2 2 3 0 3 2 0 1 0 3 3 2 0 1 1 1 1 0 3 2 0 3\n",
      " 1 2 0 1 1 3 1 1 1 2 0 0 1 2 0 2 0 1 1 0 2 3 2 3 0 1 2 2 1 0 0 2 1 0 2 0 2\n",
      " 2 2 1 2 0 1 0 3 1 1 3 1 3 0 0 2 2 2 0 2 2 1 0 0 2 2 1 3 0 0 0 2 2 1 2 0 3\n",
      " 2 1 2 2 3 0 1 1 2 0 2 2 0 1 3 1 1 3 1 2 3 2 1 1 2 3 3 0 3 3 0 2 3 2 2 2 3\n",
      " 2 0 1 2 0 2 1 1 2 2 2 1 2 1 0 1 3 1 0 1 1 3 1 0 0 2 2 2 3 0 3 2 2 1 3 0 0\n",
      " 3 1 2 1 1 2 2 0 3 0 2 3 0 2 2 3 2 1 0 2 2 1 0 1 1 1 1 3 0 2 2 0 2 3 2 3 0\n",
      " 2 1 1 2 2 3 3 0 2 1 2 1 3 0 0 2 0 1 0 0 3 3 2 0 0 0 0 3 2 3 2 0 0 1 1 0 2\n",
      " 2]\n"
     ]
    }
   ],
   "source": [
    "test_pred = classifier.predict(data_test)\n",
    "print(test_pred)"
   ]
  }
 ],
 "metadata": {
  "kernelspec": {
   "display_name": "Python 3",
   "language": "python",
   "name": "python3"
  },
  "language_info": {
   "codemirror_mode": {
    "name": "ipython",
    "version": 3
   },
   "file_extension": ".py",
   "mimetype": "text/x-python",
   "name": "python",
   "nbconvert_exporter": "python",
   "pygments_lexer": "ipython3",
   "version": "3.7.10"
  },
  "papermill": {
   "default_parameters": {},
   "duration": 17.928853,
   "end_time": "2021-06-07T13:37:06.583688",
   "environment_variables": {},
   "exception": null,
   "input_path": "__notebook__.ipynb",
   "output_path": "__notebook__.ipynb",
   "parameters": {},
   "start_time": "2021-06-07T13:36:48.654835",
   "version": "2.3.3"
  }
 },
 "nbformat": 4,
 "nbformat_minor": 5
}
